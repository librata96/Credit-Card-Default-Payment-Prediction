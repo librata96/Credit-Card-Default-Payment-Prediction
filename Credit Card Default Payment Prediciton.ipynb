{
  "cells": [
    {
      "attachments": {},
      "cell_type": "markdown",
      "metadata": {
        "id": "5iuRcAZjrNVX"
      },
      "source": [
        "# 1 - Introduction"
      ]
    },
    {
      "attachments": {},
      "cell_type": "markdown",
      "metadata": {
        "id": "Ty8ZPDKSrR5D"
      },
      "source": [
        "Nama : Dicky Librata Sembiring \n",
        "\n",
        "Dataset : ml_datasets\n",
        "\n",
        "Objective : Memprediksi default_payment_next_month dengan menggunakan model machine\n",
        "\n",
        "## Query SQL\n",
        "SELECT\\\n",
        "      limit_balance, \\\n",
        "      CAST(sex AS INT) AS sex, \\\n",
        "      CAST(education_level AS INT) AS education_level,\\\n",
        "      CAST(marital_status AS INT) AS marital_status, \\\n",
        "      age, pay_0, pay_2, pay_3, pay_4, \\\n",
        "      CAST(pay_5 AS FLOAT64) AS pay_5,\\\n",
        "      CAST(pay_6 AS FLOAT64) AS pay_6, \\\n",
        "      bill_amt_1, bill_amt_2,bill_amt_3, bill_amt_4, bill_amt_5, bill_amt_6,\\\n",
        "      pay_amt_1, pay_amt_2, pay_amt_3,pay_amt_4, pay_amt_5, pay_amt_6, \\\n",
        "      CAST(default_payment_next_month AS INT) AS  default_payment_next_month\n",
        "\n",
        "FROM `bigquery-public-data.ml_datasets.credit_card_default` \n",
        "\n",
        "LIMIT 5988"
      ]
    },
    {
      "cell_type": "markdown",
      "metadata": {
        "id": "QMO5-0oCrd_8"
      },
      "source": [
        "# 2 - Import Libraries"
      ]
    },
    {
      "attachments": {},
      "cell_type": "markdown",
      "metadata": {
        "id": "Hm7rEWBvrhXs"
      },
      "source": [
        "> Berikut adalah library python yang digunakan"
      ]
    },
    {
      "cell_type": "code",
      "execution_count": 134,
      "metadata": {
        "id": "jpgVz0BXrgmi"
      },
      "outputs": [],
      "source": [
        "# Import Libraries\n",
        "%matplotlib inline\n",
        "import pandas as pd\n",
        "import numpy as np\n",
        "import seaborn as sns\n",
        "import matplotlib.pyplot as plt\n",
        "\n",
        "from sklearn.linear_model import LogisticRegression\n",
        "from sklearn.svm import SVC\n",
        "from sklearn.tree import DecisionTreeClassifier\n",
        "from sklearn.ensemble import RandomForestClassifier, GradientBoostingClassifier\n",
        "from sklearn.neighbors import KNeighborsClassifier\n",
        "from sklearn.naive_bayes import GaussianNB\n",
        "\n",
        "from sklearn.model_selection import train_test_split, GridSearchCV, RandomizedSearchCV, cross_val_score, StratifiedKFold\n",
        "from sklearn.preprocessing import StandardScaler, OrdinalEncoder\n",
        "from sklearn.metrics import classification_report,ConfusionMatrixDisplay,confusion_matrix\n",
        "\n",
        "from sklearn.compose import ColumnTransformer\n",
        "from sklearn.pipeline import Pipeline\n",
        "\n",
        "from statsmodels.stats.outliers_influence import variance_inflation_factor\n",
        "from scipy import stats\n",
        "\n",
        "import phik\n",
        "from phik import resources, report\n",
        "\n",
        "import pickle"
      ]
    },
    {
      "attachments": {},
      "cell_type": "markdown",
      "metadata": {
        "id": "5KMpETCZr8bw"
      },
      "source": [
        "# 3 - Data Loading"
      ]
    },
    {
      "attachments": {},
      "cell_type": "markdown",
      "metadata": {
        "id": "BdZdnH2_r_ci"
      },
      "source": [
        "> Selanjutnya dilakukan loading dataset. Kemudian beberapa eksplorasi sederhana seperti melihat jumlah baris dan kolom data, nama dan type data masing - masing kolom, serta basic info dari data yang telah di load"
      ]
    },
    {
      "cell_type": "code",
      "execution_count": 70,
      "metadata": {
        "colab": {
          "base_uri": "https://localhost:8080/",
          "height": 540
        },
        "id": "82KtCauTsD3Y",
        "outputId": "5391cbfb-3f95-42f5-dda8-59971e98c7d9"
      },
      "outputs": [],
      "source": [
        "# Load Dataset\n",
        "df_ori = pd.read_csv('h8dsft_P1M1_dicky_librata.csv')\n",
        "\n",
        "# Setting display pandas dataframe showing all columns\n",
        "pd.set_option('display.max_columns', None) \n",
        "# Setting format floating to 2 decimal\n",
        "pd.options.display.float_format = '{:.2f}'.format"
      ]
    },
    {
      "attachments": {},
      "cell_type": "markdown",
      "metadata": {},
      "source": [
        "Dari sumber dataset, penulis memperoleh informasi mengnai masing - masing column sebagai berikut:\n",
        "- limit_balance : Amount of given credit in NT dollars (includes individual and family/supplementary credit\n",
        "- Gender :\n",
        "    - 1 = Male\n",
        "    - 2 = Female\n",
        "- Education Level : \n",
        "    - 1 = graduate school \n",
        "    - 2 = university \n",
        "    - 3 = high school \n",
        "    - 4 = others \n",
        "    - 5 = unknown \n",
        "    - 6 = unknown)\n",
        "- Marital status :\n",
        "    - 1 = married \n",
        "    - 2 = single\n",
        "    - 3 = others\n",
        "- Age : Age in years\n",
        "- Pay_0 : Repayment status in September, 2005 (-1=pay duly, 1=payment delay for one month, 2=payment delay for two months, ... 8=payment delay for eight months, 9=payment delay for nine months and above)\n",
        "- Pay_2, pay_3, pay_4, pay_5, pay_6 : Repayment for August, July, June, May, April\n",
        "- bill_amt_1, bill_amt_2, bill_amt_3, bill_amt_4, bill_amt_5, bill_amt_6, = Amount of bill satatement in September , August, July, June, May, April\n",
        "- pay_amt_1, pay_amt_2, pay_amt_3, pay_amt_4, pay_amt_5, pay_amt_6 = Amount of previous payment in September , August, July, June, May, April\n",
        "- Default payment : \n",
        "    - 1 = yes\n",
        "    - 0 = no"
      ]
    },
    {
      "cell_type": "code",
      "execution_count": 71,
      "metadata": {
        "id": "pKP0YmOqsTkZ"
      },
      "outputs": [
        {
          "data": {
            "text/html": [
              "<div>\n",
              "<style scoped>\n",
              "    .dataframe tbody tr th:only-of-type {\n",
              "        vertical-align: middle;\n",
              "    }\n",
              "\n",
              "    .dataframe tbody tr th {\n",
              "        vertical-align: top;\n",
              "    }\n",
              "\n",
              "    .dataframe thead th {\n",
              "        text-align: right;\n",
              "    }\n",
              "</style>\n",
              "<table border=\"1\" class=\"dataframe\">\n",
              "  <thead>\n",
              "    <tr style=\"text-align: right;\">\n",
              "      <th></th>\n",
              "      <th>limit_balance</th>\n",
              "      <th>sex</th>\n",
              "      <th>education_level</th>\n",
              "      <th>marital_status</th>\n",
              "      <th>age</th>\n",
              "      <th>pay_0</th>\n",
              "      <th>pay_2</th>\n",
              "      <th>pay_3</th>\n",
              "      <th>pay_4</th>\n",
              "      <th>pay_5</th>\n",
              "      <th>pay_6</th>\n",
              "      <th>bill_amt_1</th>\n",
              "      <th>bill_amt_2</th>\n",
              "      <th>bill_amt_3</th>\n",
              "      <th>bill_amt_4</th>\n",
              "      <th>bill_amt_5</th>\n",
              "      <th>bill_amt_6</th>\n",
              "      <th>pay_amt_1</th>\n",
              "      <th>pay_amt_2</th>\n",
              "      <th>pay_amt_3</th>\n",
              "      <th>pay_amt_4</th>\n",
              "      <th>pay_amt_5</th>\n",
              "      <th>pay_amt_6</th>\n",
              "      <th>default_payment_next_month</th>\n",
              "    </tr>\n",
              "  </thead>\n",
              "  <tbody>\n",
              "    <tr>\n",
              "      <th>0</th>\n",
              "      <td>130000</td>\n",
              "      <td>1</td>\n",
              "      <td>1</td>\n",
              "      <td>1</td>\n",
              "      <td>45</td>\n",
              "      <td>0</td>\n",
              "      <td>0</td>\n",
              "      <td>0</td>\n",
              "      <td>0</td>\n",
              "      <td>0</td>\n",
              "      <td>0</td>\n",
              "      <td>58180</td>\n",
              "      <td>59134</td>\n",
              "      <td>61156</td>\n",
              "      <td>62377</td>\n",
              "      <td>63832</td>\n",
              "      <td>65099</td>\n",
              "      <td>2886</td>\n",
              "      <td>2908</td>\n",
              "      <td>2129</td>\n",
              "      <td>2354</td>\n",
              "      <td>2366</td>\n",
              "      <td>2291</td>\n",
              "      <td>0</td>\n",
              "    </tr>\n",
              "    <tr>\n",
              "      <th>1</th>\n",
              "      <td>230000</td>\n",
              "      <td>1</td>\n",
              "      <td>2</td>\n",
              "      <td>1</td>\n",
              "      <td>41</td>\n",
              "      <td>0</td>\n",
              "      <td>0</td>\n",
              "      <td>0</td>\n",
              "      <td>0</td>\n",
              "      <td>0</td>\n",
              "      <td>0</td>\n",
              "      <td>301038</td>\n",
              "      <td>305327</td>\n",
              "      <td>213058</td>\n",
              "      <td>216260</td>\n",
              "      <td>215968</td>\n",
              "      <td>174195</td>\n",
              "      <td>9405</td>\n",
              "      <td>7769</td>\n",
              "      <td>7757</td>\n",
              "      <td>8030</td>\n",
              "      <td>6549</td>\n",
              "      <td>5226</td>\n",
              "      <td>1</td>\n",
              "    </tr>\n",
              "    <tr>\n",
              "      <th>2</th>\n",
              "      <td>200000</td>\n",
              "      <td>1</td>\n",
              "      <td>1</td>\n",
              "      <td>1</td>\n",
              "      <td>58</td>\n",
              "      <td>0</td>\n",
              "      <td>0</td>\n",
              "      <td>0</td>\n",
              "      <td>0</td>\n",
              "      <td>0</td>\n",
              "      <td>0</td>\n",
              "      <td>192461</td>\n",
              "      <td>195970</td>\n",
              "      <td>122214</td>\n",
              "      <td>124647</td>\n",
              "      <td>126921</td>\n",
              "      <td>129167</td>\n",
              "      <td>7822</td>\n",
              "      <td>4417</td>\n",
              "      <td>4446</td>\n",
              "      <td>4597</td>\n",
              "      <td>4677</td>\n",
              "      <td>4698</td>\n",
              "      <td>0</td>\n",
              "    </tr>\n",
              "    <tr>\n",
              "      <th>3</th>\n",
              "      <td>500000</td>\n",
              "      <td>1</td>\n",
              "      <td>1</td>\n",
              "      <td>1</td>\n",
              "      <td>39</td>\n",
              "      <td>0</td>\n",
              "      <td>0</td>\n",
              "      <td>0</td>\n",
              "      <td>0</td>\n",
              "      <td>0</td>\n",
              "      <td>0</td>\n",
              "      <td>133598</td>\n",
              "      <td>167378</td>\n",
              "      <td>171106</td>\n",
              "      <td>174500</td>\n",
              "      <td>137406</td>\n",
              "      <td>204975</td>\n",
              "      <td>54209</td>\n",
              "      <td>4607</td>\n",
              "      <td>4603</td>\n",
              "      <td>5224</td>\n",
              "      <td>207440</td>\n",
              "      <td>7509</td>\n",
              "      <td>0</td>\n",
              "    </tr>\n",
              "    <tr>\n",
              "      <th>4</th>\n",
              "      <td>230000</td>\n",
              "      <td>1</td>\n",
              "      <td>1</td>\n",
              "      <td>1</td>\n",
              "      <td>48</td>\n",
              "      <td>0</td>\n",
              "      <td>0</td>\n",
              "      <td>0</td>\n",
              "      <td>0</td>\n",
              "      <td>0</td>\n",
              "      <td>0</td>\n",
              "      <td>160879</td>\n",
              "      <td>161797</td>\n",
              "      <td>165107</td>\n",
              "      <td>105508</td>\n",
              "      <td>108101</td>\n",
              "      <td>110094</td>\n",
              "      <td>7000</td>\n",
              "      <td>6607</td>\n",
              "      <td>3773</td>\n",
              "      <td>4290</td>\n",
              "      <td>4164</td>\n",
              "      <td>2000</td>\n",
              "      <td>0</td>\n",
              "    </tr>\n",
              "    <tr>\n",
              "      <th>5</th>\n",
              "      <td>500000</td>\n",
              "      <td>1</td>\n",
              "      <td>2</td>\n",
              "      <td>1</td>\n",
              "      <td>41</td>\n",
              "      <td>0</td>\n",
              "      <td>0</td>\n",
              "      <td>0</td>\n",
              "      <td>0</td>\n",
              "      <td>0</td>\n",
              "      <td>0</td>\n",
              "      <td>155820</td>\n",
              "      <td>171565</td>\n",
              "      <td>184782</td>\n",
              "      <td>152365</td>\n",
              "      <td>139757</td>\n",
              "      <td>153348</td>\n",
              "      <td>20000</td>\n",
              "      <td>20241</td>\n",
              "      <td>20154</td>\n",
              "      <td>20019</td>\n",
              "      <td>20151</td>\n",
              "      <td>20037</td>\n",
              "      <td>0</td>\n",
              "    </tr>\n",
              "    <tr>\n",
              "      <th>6</th>\n",
              "      <td>50000</td>\n",
              "      <td>1</td>\n",
              "      <td>2</td>\n",
              "      <td>1</td>\n",
              "      <td>40</td>\n",
              "      <td>0</td>\n",
              "      <td>0</td>\n",
              "      <td>0</td>\n",
              "      <td>0</td>\n",
              "      <td>0</td>\n",
              "      <td>0</td>\n",
              "      <td>49073</td>\n",
              "      <td>49531</td>\n",
              "      <td>44002</td>\n",
              "      <td>44356</td>\n",
              "      <td>19344</td>\n",
              "      <td>19354</td>\n",
              "      <td>1691</td>\n",
              "      <td>1942</td>\n",
              "      <td>1296</td>\n",
              "      <td>674</td>\n",
              "      <td>693</td>\n",
              "      <td>1000</td>\n",
              "      <td>0</td>\n",
              "    </tr>\n",
              "    <tr>\n",
              "      <th>7</th>\n",
              "      <td>100000</td>\n",
              "      <td>1</td>\n",
              "      <td>5</td>\n",
              "      <td>1</td>\n",
              "      <td>45</td>\n",
              "      <td>0</td>\n",
              "      <td>0</td>\n",
              "      <td>0</td>\n",
              "      <td>0</td>\n",
              "      <td>0</td>\n",
              "      <td>0</td>\n",
              "      <td>94502</td>\n",
              "      <td>95697</td>\n",
              "      <td>98222</td>\n",
              "      <td>90500</td>\n",
              "      <td>82586</td>\n",
              "      <td>22620</td>\n",
              "      <td>5000</td>\n",
              "      <td>5000</td>\n",
              "      <td>3203</td>\n",
              "      <td>2103</td>\n",
              "      <td>50000</td>\n",
              "      <td>0</td>\n",
              "      <td>0</td>\n",
              "    </tr>\n",
              "    <tr>\n",
              "      <th>8</th>\n",
              "      <td>140000</td>\n",
              "      <td>1</td>\n",
              "      <td>2</td>\n",
              "      <td>1</td>\n",
              "      <td>29</td>\n",
              "      <td>0</td>\n",
              "      <td>0</td>\n",
              "      <td>0</td>\n",
              "      <td>0</td>\n",
              "      <td>0</td>\n",
              "      <td>0</td>\n",
              "      <td>130767</td>\n",
              "      <td>134946</td>\n",
              "      <td>130470</td>\n",
              "      <td>132038</td>\n",
              "      <td>131961</td>\n",
              "      <td>124256</td>\n",
              "      <td>6696</td>\n",
              "      <td>5000</td>\n",
              "      <td>4866</td>\n",
              "      <td>5300</td>\n",
              "      <td>5055</td>\n",
              "      <td>5000</td>\n",
              "      <td>0</td>\n",
              "    </tr>\n",
              "    <tr>\n",
              "      <th>9</th>\n",
              "      <td>50000</td>\n",
              "      <td>1</td>\n",
              "      <td>2</td>\n",
              "      <td>1</td>\n",
              "      <td>43</td>\n",
              "      <td>0</td>\n",
              "      <td>0</td>\n",
              "      <td>0</td>\n",
              "      <td>0</td>\n",
              "      <td>0</td>\n",
              "      <td>0</td>\n",
              "      <td>48919</td>\n",
              "      <td>48775</td>\n",
              "      <td>48731</td>\n",
              "      <td>48934</td>\n",
              "      <td>29116</td>\n",
              "      <td>28999</td>\n",
              "      <td>1800</td>\n",
              "      <td>2200</td>\n",
              "      <td>1400</td>\n",
              "      <td>582</td>\n",
              "      <td>580</td>\n",
              "      <td>30000</td>\n",
              "      <td>0</td>\n",
              "    </tr>\n",
              "  </tbody>\n",
              "</table>\n",
              "</div>"
            ],
            "text/plain": [
              "   limit_balance  sex  education_level  marital_status  age  pay_0  pay_2  \\\n",
              "0         130000    1                1               1   45      0      0   \n",
              "1         230000    1                2               1   41      0      0   \n",
              "2         200000    1                1               1   58      0      0   \n",
              "3         500000    1                1               1   39      0      0   \n",
              "4         230000    1                1               1   48      0      0   \n",
              "5         500000    1                2               1   41      0      0   \n",
              "6          50000    1                2               1   40      0      0   \n",
              "7         100000    1                5               1   45      0      0   \n",
              "8         140000    1                2               1   29      0      0   \n",
              "9          50000    1                2               1   43      0      0   \n",
              "\n",
              "   pay_3  pay_4  pay_5  pay_6  bill_amt_1  bill_amt_2  bill_amt_3  bill_amt_4  \\\n",
              "0      0      0      0      0       58180       59134       61156       62377   \n",
              "1      0      0      0      0      301038      305327      213058      216260   \n",
              "2      0      0      0      0      192461      195970      122214      124647   \n",
              "3      0      0      0      0      133598      167378      171106      174500   \n",
              "4      0      0      0      0      160879      161797      165107      105508   \n",
              "5      0      0      0      0      155820      171565      184782      152365   \n",
              "6      0      0      0      0       49073       49531       44002       44356   \n",
              "7      0      0      0      0       94502       95697       98222       90500   \n",
              "8      0      0      0      0      130767      134946      130470      132038   \n",
              "9      0      0      0      0       48919       48775       48731       48934   \n",
              "\n",
              "   bill_amt_5  bill_amt_6  pay_amt_1  pay_amt_2  pay_amt_3  pay_amt_4  \\\n",
              "0       63832       65099       2886       2908       2129       2354   \n",
              "1      215968      174195       9405       7769       7757       8030   \n",
              "2      126921      129167       7822       4417       4446       4597   \n",
              "3      137406      204975      54209       4607       4603       5224   \n",
              "4      108101      110094       7000       6607       3773       4290   \n",
              "5      139757      153348      20000      20241      20154      20019   \n",
              "6       19344       19354       1691       1942       1296        674   \n",
              "7       82586       22620       5000       5000       3203       2103   \n",
              "8      131961      124256       6696       5000       4866       5300   \n",
              "9       29116       28999       1800       2200       1400        582   \n",
              "\n",
              "   pay_amt_5  pay_amt_6  default_payment_next_month  \n",
              "0       2366       2291                           0  \n",
              "1       6549       5226                           1  \n",
              "2       4677       4698                           0  \n",
              "3     207440       7509                           0  \n",
              "4       4164       2000                           0  \n",
              "5      20151      20037                           0  \n",
              "6        693       1000                           0  \n",
              "7      50000          0                           0  \n",
              "8       5055       5000                           0  \n",
              "9        580      30000                           0  "
            ]
          },
          "execution_count": 71,
          "metadata": {},
          "output_type": "execute_result"
        }
      ],
      "source": [
        "# Duplicate Dataset\n",
        "# Dilakukan agar data set original tidak berubah apabila dilakukan pengolahan pada data\n",
        "df = df_ori.copy()\n",
        "# Showing First 10 Data\n",
        "df.head(10)"
      ]
    },
    {
      "cell_type": "code",
      "execution_count": 72,
      "metadata": {},
      "outputs": [
        {
          "data": {
            "text/html": [
              "<div>\n",
              "<style scoped>\n",
              "    .dataframe tbody tr th:only-of-type {\n",
              "        vertical-align: middle;\n",
              "    }\n",
              "\n",
              "    .dataframe tbody tr th {\n",
              "        vertical-align: top;\n",
              "    }\n",
              "\n",
              "    .dataframe thead th {\n",
              "        text-align: right;\n",
              "    }\n",
              "</style>\n",
              "<table border=\"1\" class=\"dataframe\">\n",
              "  <thead>\n",
              "    <tr style=\"text-align: right;\">\n",
              "      <th></th>\n",
              "      <th>limit_balance</th>\n",
              "      <th>sex</th>\n",
              "      <th>education_level</th>\n",
              "      <th>marital_status</th>\n",
              "      <th>age</th>\n",
              "      <th>pay_0</th>\n",
              "      <th>pay_2</th>\n",
              "      <th>pay_3</th>\n",
              "      <th>pay_4</th>\n",
              "      <th>pay_5</th>\n",
              "      <th>pay_6</th>\n",
              "      <th>bill_amt_1</th>\n",
              "      <th>bill_amt_2</th>\n",
              "      <th>bill_amt_3</th>\n",
              "      <th>bill_amt_4</th>\n",
              "      <th>bill_amt_5</th>\n",
              "      <th>bill_amt_6</th>\n",
              "      <th>pay_amt_1</th>\n",
              "      <th>pay_amt_2</th>\n",
              "      <th>pay_amt_3</th>\n",
              "      <th>pay_amt_4</th>\n",
              "      <th>pay_amt_5</th>\n",
              "      <th>pay_amt_6</th>\n",
              "      <th>default_payment_next_month</th>\n",
              "    </tr>\n",
              "  </thead>\n",
              "  <tbody>\n",
              "    <tr>\n",
              "      <th>2955</th>\n",
              "      <td>300000</td>\n",
              "      <td>2</td>\n",
              "      <td>2</td>\n",
              "      <td>1</td>\n",
              "      <td>28</td>\n",
              "      <td>-1</td>\n",
              "      <td>-1</td>\n",
              "      <td>-1</td>\n",
              "      <td>-1</td>\n",
              "      <td>-2</td>\n",
              "      <td>-2</td>\n",
              "      <td>16666</td>\n",
              "      <td>1000</td>\n",
              "      <td>16666</td>\n",
              "      <td>0</td>\n",
              "      <td>0</td>\n",
              "      <td>0</td>\n",
              "      <td>1000</td>\n",
              "      <td>16666</td>\n",
              "      <td>0</td>\n",
              "      <td>0</td>\n",
              "      <td>0</td>\n",
              "      <td>0</td>\n",
              "      <td>0</td>\n",
              "    </tr>\n",
              "    <tr>\n",
              "      <th>2956</th>\n",
              "      <td>200000</td>\n",
              "      <td>2</td>\n",
              "      <td>1</td>\n",
              "      <td>1</td>\n",
              "      <td>49</td>\n",
              "      <td>-1</td>\n",
              "      <td>-1</td>\n",
              "      <td>-1</td>\n",
              "      <td>-1</td>\n",
              "      <td>-2</td>\n",
              "      <td>-2</td>\n",
              "      <td>413</td>\n",
              "      <td>0</td>\n",
              "      <td>103</td>\n",
              "      <td>0</td>\n",
              "      <td>0</td>\n",
              "      <td>0</td>\n",
              "      <td>0</td>\n",
              "      <td>103</td>\n",
              "      <td>0</td>\n",
              "      <td>0</td>\n",
              "      <td>0</td>\n",
              "      <td>225</td>\n",
              "      <td>0</td>\n",
              "    </tr>\n",
              "    <tr>\n",
              "      <th>2957</th>\n",
              "      <td>50000</td>\n",
              "      <td>2</td>\n",
              "      <td>1</td>\n",
              "      <td>2</td>\n",
              "      <td>31</td>\n",
              "      <td>-1</td>\n",
              "      <td>0</td>\n",
              "      <td>-1</td>\n",
              "      <td>-1</td>\n",
              "      <td>-1</td>\n",
              "      <td>-2</td>\n",
              "      <td>12725</td>\n",
              "      <td>34526</td>\n",
              "      <td>12787</td>\n",
              "      <td>3995</td>\n",
              "      <td>0</td>\n",
              "      <td>0</td>\n",
              "      <td>30018</td>\n",
              "      <td>12787</td>\n",
              "      <td>3995</td>\n",
              "      <td>0</td>\n",
              "      <td>0</td>\n",
              "      <td>0</td>\n",
              "      <td>0</td>\n",
              "    </tr>\n",
              "    <tr>\n",
              "      <th>2958</th>\n",
              "      <td>50000</td>\n",
              "      <td>2</td>\n",
              "      <td>1</td>\n",
              "      <td>2</td>\n",
              "      <td>25</td>\n",
              "      <td>-1</td>\n",
              "      <td>-1</td>\n",
              "      <td>2</td>\n",
              "      <td>-1</td>\n",
              "      <td>-1</td>\n",
              "      <td>-2</td>\n",
              "      <td>13572</td>\n",
              "      <td>17983</td>\n",
              "      <td>15590</td>\n",
              "      <td>10610</td>\n",
              "      <td>0</td>\n",
              "      <td>0</td>\n",
              "      <td>5000</td>\n",
              "      <td>200</td>\n",
              "      <td>10610</td>\n",
              "      <td>0</td>\n",
              "      <td>0</td>\n",
              "      <td>0</td>\n",
              "      <td>0</td>\n",
              "    </tr>\n",
              "    <tr>\n",
              "      <th>2959</th>\n",
              "      <td>100000</td>\n",
              "      <td>2</td>\n",
              "      <td>1</td>\n",
              "      <td>2</td>\n",
              "      <td>37</td>\n",
              "      <td>-1</td>\n",
              "      <td>-1</td>\n",
              "      <td>0</td>\n",
              "      <td>-1</td>\n",
              "      <td>-1</td>\n",
              "      <td>-2</td>\n",
              "      <td>1725</td>\n",
              "      <td>21711</td>\n",
              "      <td>10487</td>\n",
              "      <td>780</td>\n",
              "      <td>0</td>\n",
              "      <td>0</td>\n",
              "      <td>21711</td>\n",
              "      <td>1000</td>\n",
              "      <td>780</td>\n",
              "      <td>0</td>\n",
              "      <td>0</td>\n",
              "      <td>0</td>\n",
              "      <td>0</td>\n",
              "    </tr>\n",
              "    <tr>\n",
              "      <th>2960</th>\n",
              "      <td>30000</td>\n",
              "      <td>2</td>\n",
              "      <td>3</td>\n",
              "      <td>2</td>\n",
              "      <td>50</td>\n",
              "      <td>-1</td>\n",
              "      <td>-1</td>\n",
              "      <td>2</td>\n",
              "      <td>-1</td>\n",
              "      <td>-1</td>\n",
              "      <td>-2</td>\n",
              "      <td>178</td>\n",
              "      <td>1860</td>\n",
              "      <td>940</td>\n",
              "      <td>1110</td>\n",
              "      <td>0</td>\n",
              "      <td>0</td>\n",
              "      <td>1860</td>\n",
              "      <td>0</td>\n",
              "      <td>1110</td>\n",
              "      <td>0</td>\n",
              "      <td>0</td>\n",
              "      <td>0</td>\n",
              "      <td>1</td>\n",
              "    </tr>\n",
              "    <tr>\n",
              "      <th>2961</th>\n",
              "      <td>20000</td>\n",
              "      <td>2</td>\n",
              "      <td>1</td>\n",
              "      <td>2</td>\n",
              "      <td>25</td>\n",
              "      <td>-1</td>\n",
              "      <td>-1</td>\n",
              "      <td>-1</td>\n",
              "      <td>-1</td>\n",
              "      <td>-1</td>\n",
              "      <td>-2</td>\n",
              "      <td>2650</td>\n",
              "      <td>0</td>\n",
              "      <td>855</td>\n",
              "      <td>640</td>\n",
              "      <td>0</td>\n",
              "      <td>0</td>\n",
              "      <td>0</td>\n",
              "      <td>855</td>\n",
              "      <td>640</td>\n",
              "      <td>0</td>\n",
              "      <td>0</td>\n",
              "      <td>2742</td>\n",
              "      <td>0</td>\n",
              "    </tr>\n",
              "    <tr>\n",
              "      <th>2962</th>\n",
              "      <td>280000</td>\n",
              "      <td>2</td>\n",
              "      <td>1</td>\n",
              "      <td>2</td>\n",
              "      <td>52</td>\n",
              "      <td>-1</td>\n",
              "      <td>-1</td>\n",
              "      <td>-1</td>\n",
              "      <td>-1</td>\n",
              "      <td>-2</td>\n",
              "      <td>-2</td>\n",
              "      <td>886</td>\n",
              "      <td>0</td>\n",
              "      <td>930</td>\n",
              "      <td>0</td>\n",
              "      <td>0</td>\n",
              "      <td>0</td>\n",
              "      <td>0</td>\n",
              "      <td>930</td>\n",
              "      <td>0</td>\n",
              "      <td>0</td>\n",
              "      <td>0</td>\n",
              "      <td>0</td>\n",
              "      <td>0</td>\n",
              "    </tr>\n",
              "    <tr>\n",
              "      <th>2963</th>\n",
              "      <td>360000</td>\n",
              "      <td>2</td>\n",
              "      <td>2</td>\n",
              "      <td>2</td>\n",
              "      <td>26</td>\n",
              "      <td>-1</td>\n",
              "      <td>-1</td>\n",
              "      <td>-1</td>\n",
              "      <td>-1</td>\n",
              "      <td>-2</td>\n",
              "      <td>-2</td>\n",
              "      <td>1968</td>\n",
              "      <td>459</td>\n",
              "      <td>2500</td>\n",
              "      <td>0</td>\n",
              "      <td>0</td>\n",
              "      <td>0</td>\n",
              "      <td>463</td>\n",
              "      <td>2500</td>\n",
              "      <td>0</td>\n",
              "      <td>0</td>\n",
              "      <td>0</td>\n",
              "      <td>0</td>\n",
              "      <td>0</td>\n",
              "    </tr>\n",
              "    <tr>\n",
              "      <th>2964</th>\n",
              "      <td>100000</td>\n",
              "      <td>2</td>\n",
              "      <td>1</td>\n",
              "      <td>2</td>\n",
              "      <td>30</td>\n",
              "      <td>-1</td>\n",
              "      <td>-1</td>\n",
              "      <td>-1</td>\n",
              "      <td>-1</td>\n",
              "      <td>-2</td>\n",
              "      <td>-2</td>\n",
              "      <td>430</td>\n",
              "      <td>35993</td>\n",
              "      <td>2772</td>\n",
              "      <td>0</td>\n",
              "      <td>0</td>\n",
              "      <td>0</td>\n",
              "      <td>35993</td>\n",
              "      <td>2772</td>\n",
              "      <td>0</td>\n",
              "      <td>0</td>\n",
              "      <td>0</td>\n",
              "      <td>0</td>\n",
              "      <td>0</td>\n",
              "    </tr>\n",
              "  </tbody>\n",
              "</table>\n",
              "</div>"
            ],
            "text/plain": [
              "      limit_balance  sex  education_level  marital_status  age  pay_0  pay_2  \\\n",
              "2955         300000    2                2               1   28     -1     -1   \n",
              "2956         200000    2                1               1   49     -1     -1   \n",
              "2957          50000    2                1               2   31     -1      0   \n",
              "2958          50000    2                1               2   25     -1     -1   \n",
              "2959         100000    2                1               2   37     -1     -1   \n",
              "2960          30000    2                3               2   50     -1     -1   \n",
              "2961          20000    2                1               2   25     -1     -1   \n",
              "2962         280000    2                1               2   52     -1     -1   \n",
              "2963         360000    2                2               2   26     -1     -1   \n",
              "2964         100000    2                1               2   30     -1     -1   \n",
              "\n",
              "      pay_3  pay_4  pay_5  pay_6  bill_amt_1  bill_amt_2  bill_amt_3  \\\n",
              "2955     -1     -1     -2     -2       16666        1000       16666   \n",
              "2956     -1     -1     -2     -2         413           0         103   \n",
              "2957     -1     -1     -1     -2       12725       34526       12787   \n",
              "2958      2     -1     -1     -2       13572       17983       15590   \n",
              "2959      0     -1     -1     -2        1725       21711       10487   \n",
              "2960      2     -1     -1     -2         178        1860         940   \n",
              "2961     -1     -1     -1     -2        2650           0         855   \n",
              "2962     -1     -1     -2     -2         886           0         930   \n",
              "2963     -1     -1     -2     -2        1968         459        2500   \n",
              "2964     -1     -1     -2     -2         430       35993        2772   \n",
              "\n",
              "      bill_amt_4  bill_amt_5  bill_amt_6  pay_amt_1  pay_amt_2  pay_amt_3  \\\n",
              "2955           0           0           0       1000      16666          0   \n",
              "2956           0           0           0          0        103          0   \n",
              "2957        3995           0           0      30018      12787       3995   \n",
              "2958       10610           0           0       5000        200      10610   \n",
              "2959         780           0           0      21711       1000        780   \n",
              "2960        1110           0           0       1860          0       1110   \n",
              "2961         640           0           0          0        855        640   \n",
              "2962           0           0           0          0        930          0   \n",
              "2963           0           0           0        463       2500          0   \n",
              "2964           0           0           0      35993       2772          0   \n",
              "\n",
              "      pay_amt_4  pay_amt_5  pay_amt_6  default_payment_next_month  \n",
              "2955          0          0          0                           0  \n",
              "2956          0          0        225                           0  \n",
              "2957          0          0          0                           0  \n",
              "2958          0          0          0                           0  \n",
              "2959          0          0          0                           0  \n",
              "2960          0          0          0                           1  \n",
              "2961          0          0       2742                           0  \n",
              "2962          0          0          0                           0  \n",
              "2963          0          0          0                           0  \n",
              "2964          0          0          0                           0  "
            ]
          },
          "execution_count": 72,
          "metadata": {},
          "output_type": "execute_result"
        }
      ],
      "source": [
        "# Showing 10 Last Data\n",
        "df.tail(10)"
      ]
    },
    {
      "cell_type": "code",
      "execution_count": 73,
      "metadata": {},
      "outputs": [
        {
          "name": "stdout",
          "output_type": "stream",
          "text": [
            "Jumlah baris : 2965\n",
            "Jumlah kolom : 24\n",
            "Nama kolom : Index(['limit_balance', 'sex', 'education_level', 'marital_status', 'age',\n",
            "       'pay_0', 'pay_2', 'pay_3', 'pay_4', 'pay_5', 'pay_6', 'bill_amt_1',\n",
            "       'bill_amt_2', 'bill_amt_3', 'bill_amt_4', 'bill_amt_5', 'bill_amt_6',\n",
            "       'pay_amt_1', 'pay_amt_2', 'pay_amt_3', 'pay_amt_4', 'pay_amt_5',\n",
            "       'pay_amt_6', 'default_payment_next_month'],\n",
            "      dtype='object')\n"
          ]
        }
      ],
      "source": [
        "# Jumlah baris dan kolom serta nama kolom\n",
        "print(f\"Jumlah baris : {df.shape[0]}\")\n",
        "print(f\"Jumlah kolom : {df.shape[1]}\")\n",
        "print(f\"Nama kolom : {df.columns}\")\n"
      ]
    },
    {
      "cell_type": "code",
      "execution_count": 74,
      "metadata": {
        "colab": {
          "base_uri": "https://localhost:8080/"
        },
        "id": "B3T2BTeytQFM",
        "outputId": "65d2e467-5d60-4672-be08-ff2421dabc47"
      },
      "outputs": [
        {
          "name": "stdout",
          "output_type": "stream",
          "text": [
            "<class 'pandas.core.frame.DataFrame'>\n",
            "RangeIndex: 2965 entries, 0 to 2964\n",
            "Data columns (total 24 columns):\n",
            " #   Column                      Non-Null Count  Dtype\n",
            "---  ------                      --------------  -----\n",
            " 0   limit_balance               2965 non-null   int64\n",
            " 1   sex                         2965 non-null   int64\n",
            " 2   education_level             2965 non-null   int64\n",
            " 3   marital_status              2965 non-null   int64\n",
            " 4   age                         2965 non-null   int64\n",
            " 5   pay_0                       2965 non-null   int64\n",
            " 6   pay_2                       2965 non-null   int64\n",
            " 7   pay_3                       2965 non-null   int64\n",
            " 8   pay_4                       2965 non-null   int64\n",
            " 9   pay_5                       2965 non-null   int64\n",
            " 10  pay_6                       2965 non-null   int64\n",
            " 11  bill_amt_1                  2965 non-null   int64\n",
            " 12  bill_amt_2                  2965 non-null   int64\n",
            " 13  bill_amt_3                  2965 non-null   int64\n",
            " 14  bill_amt_4                  2965 non-null   int64\n",
            " 15  bill_amt_5                  2965 non-null   int64\n",
            " 16  bill_amt_6                  2965 non-null   int64\n",
            " 17  pay_amt_1                   2965 non-null   int64\n",
            " 18  pay_amt_2                   2965 non-null   int64\n",
            " 19  pay_amt_3                   2965 non-null   int64\n",
            " 20  pay_amt_4                   2965 non-null   int64\n",
            " 21  pay_amt_5                   2965 non-null   int64\n",
            " 22  pay_amt_6                   2965 non-null   int64\n",
            " 23  default_payment_next_month  2965 non-null   int64\n",
            "dtypes: int64(24)\n",
            "memory usage: 556.1 KB\n"
          ]
        }
      ],
      "source": [
        "# Check basic info Dataset\n",
        "df.info()"
      ]
    },
    {
      "cell_type": "code",
      "execution_count": 75,
      "metadata": {},
      "outputs": [
        {
          "data": {
            "text/html": [
              "<div>\n",
              "<style scoped>\n",
              "    .dataframe tbody tr th:only-of-type {\n",
              "        vertical-align: middle;\n",
              "    }\n",
              "\n",
              "    .dataframe tbody tr th {\n",
              "        vertical-align: top;\n",
              "    }\n",
              "\n",
              "    .dataframe thead th {\n",
              "        text-align: right;\n",
              "    }\n",
              "</style>\n",
              "<table border=\"1\" class=\"dataframe\">\n",
              "  <thead>\n",
              "    <tr style=\"text-align: right;\">\n",
              "      <th></th>\n",
              "      <th>count</th>\n",
              "      <th>mean</th>\n",
              "      <th>std</th>\n",
              "      <th>min</th>\n",
              "      <th>25%</th>\n",
              "      <th>50%</th>\n",
              "      <th>75%</th>\n",
              "      <th>max</th>\n",
              "    </tr>\n",
              "  </thead>\n",
              "  <tbody>\n",
              "    <tr>\n",
              "      <th>limit_balance</th>\n",
              "      <td>2965.00</td>\n",
              "      <td>163369.31</td>\n",
              "      <td>125030.42</td>\n",
              "      <td>10000.00</td>\n",
              "      <td>50000.00</td>\n",
              "      <td>140000.00</td>\n",
              "      <td>230000.00</td>\n",
              "      <td>800000.00</td>\n",
              "    </tr>\n",
              "    <tr>\n",
              "      <th>sex</th>\n",
              "      <td>2965.00</td>\n",
              "      <td>1.61</td>\n",
              "      <td>0.49</td>\n",
              "      <td>1.00</td>\n",
              "      <td>1.00</td>\n",
              "      <td>2.00</td>\n",
              "      <td>2.00</td>\n",
              "      <td>2.00</td>\n",
              "    </tr>\n",
              "    <tr>\n",
              "      <th>education_level</th>\n",
              "      <td>2965.00</td>\n",
              "      <td>1.85</td>\n",
              "      <td>0.78</td>\n",
              "      <td>0.00</td>\n",
              "      <td>1.00</td>\n",
              "      <td>2.00</td>\n",
              "      <td>2.00</td>\n",
              "      <td>6.00</td>\n",
              "    </tr>\n",
              "    <tr>\n",
              "      <th>marital_status</th>\n",
              "      <td>2965.00</td>\n",
              "      <td>1.56</td>\n",
              "      <td>0.52</td>\n",
              "      <td>0.00</td>\n",
              "      <td>1.00</td>\n",
              "      <td>2.00</td>\n",
              "      <td>2.00</td>\n",
              "      <td>3.00</td>\n",
              "    </tr>\n",
              "    <tr>\n",
              "      <th>age</th>\n",
              "      <td>2965.00</td>\n",
              "      <td>35.19</td>\n",
              "      <td>9.11</td>\n",
              "      <td>21.00</td>\n",
              "      <td>28.00</td>\n",
              "      <td>34.00</td>\n",
              "      <td>41.00</td>\n",
              "      <td>69.00</td>\n",
              "    </tr>\n",
              "    <tr>\n",
              "      <th>pay_0</th>\n",
              "      <td>2965.00</td>\n",
              "      <td>0.01</td>\n",
              "      <td>1.11</td>\n",
              "      <td>-2.00</td>\n",
              "      <td>-1.00</td>\n",
              "      <td>0.00</td>\n",
              "      <td>0.00</td>\n",
              "      <td>8.00</td>\n",
              "    </tr>\n",
              "    <tr>\n",
              "      <th>pay_2</th>\n",
              "      <td>2965.00</td>\n",
              "      <td>-0.12</td>\n",
              "      <td>1.18</td>\n",
              "      <td>-2.00</td>\n",
              "      <td>-1.00</td>\n",
              "      <td>0.00</td>\n",
              "      <td>0.00</td>\n",
              "      <td>7.00</td>\n",
              "    </tr>\n",
              "    <tr>\n",
              "      <th>pay_3</th>\n",
              "      <td>2965.00</td>\n",
              "      <td>-0.14</td>\n",
              "      <td>1.18</td>\n",
              "      <td>-2.00</td>\n",
              "      <td>-1.00</td>\n",
              "      <td>0.00</td>\n",
              "      <td>0.00</td>\n",
              "      <td>7.00</td>\n",
              "    </tr>\n",
              "    <tr>\n",
              "      <th>pay_4</th>\n",
              "      <td>2965.00</td>\n",
              "      <td>-0.19</td>\n",
              "      <td>1.18</td>\n",
              "      <td>-2.00</td>\n",
              "      <td>-1.00</td>\n",
              "      <td>0.00</td>\n",
              "      <td>0.00</td>\n",
              "      <td>8.00</td>\n",
              "    </tr>\n",
              "    <tr>\n",
              "      <th>pay_5</th>\n",
              "      <td>2965.00</td>\n",
              "      <td>-0.23</td>\n",
              "      <td>1.16</td>\n",
              "      <td>-2.00</td>\n",
              "      <td>-1.00</td>\n",
              "      <td>0.00</td>\n",
              "      <td>0.00</td>\n",
              "      <td>7.00</td>\n",
              "    </tr>\n",
              "    <tr>\n",
              "      <th>pay_6</th>\n",
              "      <td>2965.00</td>\n",
              "      <td>-0.25</td>\n",
              "      <td>1.17</td>\n",
              "      <td>-2.00</td>\n",
              "      <td>-1.00</td>\n",
              "      <td>0.00</td>\n",
              "      <td>0.00</td>\n",
              "      <td>7.00</td>\n",
              "    </tr>\n",
              "    <tr>\n",
              "      <th>bill_amt_1</th>\n",
              "      <td>2965.00</td>\n",
              "      <td>52118.31</td>\n",
              "      <td>72328.67</td>\n",
              "      <td>-11545.00</td>\n",
              "      <td>3958.00</td>\n",
              "      <td>24257.00</td>\n",
              "      <td>69852.00</td>\n",
              "      <td>613860.00</td>\n",
              "    </tr>\n",
              "    <tr>\n",
              "      <th>bill_amt_2</th>\n",
              "      <td>2965.00</td>\n",
              "      <td>50649.15</td>\n",
              "      <td>70785.00</td>\n",
              "      <td>-67526.00</td>\n",
              "      <td>3390.00</td>\n",
              "      <td>23111.00</td>\n",
              "      <td>67827.00</td>\n",
              "      <td>512650.00</td>\n",
              "    </tr>\n",
              "    <tr>\n",
              "      <th>bill_amt_3</th>\n",
              "      <td>2965.00</td>\n",
              "      <td>48239.76</td>\n",
              "      <td>68145.71</td>\n",
              "      <td>-25443.00</td>\n",
              "      <td>3302.00</td>\n",
              "      <td>21520.00</td>\n",
              "      <td>63023.00</td>\n",
              "      <td>578971.00</td>\n",
              "    </tr>\n",
              "    <tr>\n",
              "      <th>bill_amt_4</th>\n",
              "      <td>2965.00</td>\n",
              "      <td>44089.68</td>\n",
              "      <td>61907.45</td>\n",
              "      <td>-46627.00</td>\n",
              "      <td>2582.00</td>\n",
              "      <td>19894.00</td>\n",
              "      <td>58622.00</td>\n",
              "      <td>488808.00</td>\n",
              "    </tr>\n",
              "    <tr>\n",
              "      <th>bill_amt_5</th>\n",
              "      <td>2965.00</td>\n",
              "      <td>40956.08</td>\n",
              "      <td>58271.90</td>\n",
              "      <td>-46627.00</td>\n",
              "      <td>1958.00</td>\n",
              "      <td>18814.00</td>\n",
              "      <td>53373.00</td>\n",
              "      <td>441981.00</td>\n",
              "    </tr>\n",
              "    <tr>\n",
              "      <th>bill_amt_6</th>\n",
              "      <td>2965.00</td>\n",
              "      <td>39773.07</td>\n",
              "      <td>57303.49</td>\n",
              "      <td>-73895.00</td>\n",
              "      <td>1430.00</td>\n",
              "      <td>18508.00</td>\n",
              "      <td>52287.00</td>\n",
              "      <td>436172.00</td>\n",
              "    </tr>\n",
              "    <tr>\n",
              "      <th>pay_amt_1</th>\n",
              "      <td>2965.00</td>\n",
              "      <td>6348.90</td>\n",
              "      <td>20885.74</td>\n",
              "      <td>0.00</td>\n",
              "      <td>1013.00</td>\n",
              "      <td>2234.00</td>\n",
              "      <td>5087.00</td>\n",
              "      <td>493358.00</td>\n",
              "    </tr>\n",
              "    <tr>\n",
              "      <th>pay_amt_2</th>\n",
              "      <td>2965.00</td>\n",
              "      <td>6272.49</td>\n",
              "      <td>28879.67</td>\n",
              "      <td>0.00</td>\n",
              "      <td>990.00</td>\n",
              "      <td>2175.00</td>\n",
              "      <td>5000.00</td>\n",
              "      <td>1227082.00</td>\n",
              "    </tr>\n",
              "    <tr>\n",
              "      <th>pay_amt_3</th>\n",
              "      <td>2965.00</td>\n",
              "      <td>5150.50</td>\n",
              "      <td>14287.08</td>\n",
              "      <td>0.00</td>\n",
              "      <td>477.00</td>\n",
              "      <td>1994.00</td>\n",
              "      <td>4500.00</td>\n",
              "      <td>199209.00</td>\n",
              "    </tr>\n",
              "    <tr>\n",
              "      <th>pay_amt_4</th>\n",
              "      <td>2965.00</td>\n",
              "      <td>4561.38</td>\n",
              "      <td>13281.50</td>\n",
              "      <td>0.00</td>\n",
              "      <td>313.00</td>\n",
              "      <td>1600.00</td>\n",
              "      <td>4000.00</td>\n",
              "      <td>202076.00</td>\n",
              "    </tr>\n",
              "    <tr>\n",
              "      <th>pay_amt_5</th>\n",
              "      <td>2965.00</td>\n",
              "      <td>4913.29</td>\n",
              "      <td>16734.34</td>\n",
              "      <td>0.00</td>\n",
              "      <td>323.00</td>\n",
              "      <td>1646.00</td>\n",
              "      <td>4021.00</td>\n",
              "      <td>388071.00</td>\n",
              "    </tr>\n",
              "    <tr>\n",
              "      <th>pay_amt_6</th>\n",
              "      <td>2965.00</td>\n",
              "      <td>5382.70</td>\n",
              "      <td>17275.95</td>\n",
              "      <td>0.00</td>\n",
              "      <td>173.00</td>\n",
              "      <td>1615.00</td>\n",
              "      <td>4081.00</td>\n",
              "      <td>403500.00</td>\n",
              "    </tr>\n",
              "    <tr>\n",
              "      <th>default_payment_next_month</th>\n",
              "      <td>2965.00</td>\n",
              "      <td>0.21</td>\n",
              "      <td>0.41</td>\n",
              "      <td>0.00</td>\n",
              "      <td>0.00</td>\n",
              "      <td>0.00</td>\n",
              "      <td>0.00</td>\n",
              "      <td>1.00</td>\n",
              "    </tr>\n",
              "  </tbody>\n",
              "</table>\n",
              "</div>"
            ],
            "text/plain": [
              "                             count      mean       std       min      25%  \\\n",
              "limit_balance              2965.00 163369.31 125030.42  10000.00 50000.00   \n",
              "sex                        2965.00      1.61      0.49      1.00     1.00   \n",
              "education_level            2965.00      1.85      0.78      0.00     1.00   \n",
              "marital_status             2965.00      1.56      0.52      0.00     1.00   \n",
              "age                        2965.00     35.19      9.11     21.00    28.00   \n",
              "pay_0                      2965.00      0.01      1.11     -2.00    -1.00   \n",
              "pay_2                      2965.00     -0.12      1.18     -2.00    -1.00   \n",
              "pay_3                      2965.00     -0.14      1.18     -2.00    -1.00   \n",
              "pay_4                      2965.00     -0.19      1.18     -2.00    -1.00   \n",
              "pay_5                      2965.00     -0.23      1.16     -2.00    -1.00   \n",
              "pay_6                      2965.00     -0.25      1.17     -2.00    -1.00   \n",
              "bill_amt_1                 2965.00  52118.31  72328.67 -11545.00  3958.00   \n",
              "bill_amt_2                 2965.00  50649.15  70785.00 -67526.00  3390.00   \n",
              "bill_amt_3                 2965.00  48239.76  68145.71 -25443.00  3302.00   \n",
              "bill_amt_4                 2965.00  44089.68  61907.45 -46627.00  2582.00   \n",
              "bill_amt_5                 2965.00  40956.08  58271.90 -46627.00  1958.00   \n",
              "bill_amt_6                 2965.00  39773.07  57303.49 -73895.00  1430.00   \n",
              "pay_amt_1                  2965.00   6348.90  20885.74      0.00  1013.00   \n",
              "pay_amt_2                  2965.00   6272.49  28879.67      0.00   990.00   \n",
              "pay_amt_3                  2965.00   5150.50  14287.08      0.00   477.00   \n",
              "pay_amt_4                  2965.00   4561.38  13281.50      0.00   313.00   \n",
              "pay_amt_5                  2965.00   4913.29  16734.34      0.00   323.00   \n",
              "pay_amt_6                  2965.00   5382.70  17275.95      0.00   173.00   \n",
              "default_payment_next_month 2965.00      0.21      0.41      0.00     0.00   \n",
              "\n",
              "                                 50%       75%        max  \n",
              "limit_balance              140000.00 230000.00  800000.00  \n",
              "sex                             2.00      2.00       2.00  \n",
              "education_level                 2.00      2.00       6.00  \n",
              "marital_status                  2.00      2.00       3.00  \n",
              "age                            34.00     41.00      69.00  \n",
              "pay_0                           0.00      0.00       8.00  \n",
              "pay_2                           0.00      0.00       7.00  \n",
              "pay_3                           0.00      0.00       7.00  \n",
              "pay_4                           0.00      0.00       8.00  \n",
              "pay_5                           0.00      0.00       7.00  \n",
              "pay_6                           0.00      0.00       7.00  \n",
              "bill_amt_1                  24257.00  69852.00  613860.00  \n",
              "bill_amt_2                  23111.00  67827.00  512650.00  \n",
              "bill_amt_3                  21520.00  63023.00  578971.00  \n",
              "bill_amt_4                  19894.00  58622.00  488808.00  \n",
              "bill_amt_5                  18814.00  53373.00  441981.00  \n",
              "bill_amt_6                  18508.00  52287.00  436172.00  \n",
              "pay_amt_1                    2234.00   5087.00  493358.00  \n",
              "pay_amt_2                    2175.00   5000.00 1227082.00  \n",
              "pay_amt_3                    1994.00   4500.00  199209.00  \n",
              "pay_amt_4                    1600.00   4000.00  202076.00  \n",
              "pay_amt_5                    1646.00   4021.00  388071.00  \n",
              "pay_amt_6                    1615.00   4081.00  403500.00  \n",
              "default_payment_next_month      0.00      0.00       1.00  "
            ]
          },
          "execution_count": 75,
          "metadata": {},
          "output_type": "execute_result"
        }
      ],
      "source": [
        "# Check Numerical Dataset \n",
        "df.describe().T"
      ]
    },
    {
      "attachments": {},
      "cell_type": "markdown",
      "metadata": {
        "id": "84WS2s69tmrs"
      },
      "source": [
        "> Berdasarkan tabel, dapat dilihat bahwa column `sex` memiliki rata-rata `1.62` dan nilai  `median` adalah `2`. Boleh di asumsikan bahwa secara global, pengguna kartu kredit mayoritas adalah `perempuan` "
      ]
    },
    {
      "attachments": {},
      "cell_type": "markdown",
      "metadata": {
        "id": "E1OHrikJt3qb"
      },
      "source": [
        "# 4 - Exploratory Data Analysis (EDA)"
      ]
    },
    {
      "attachments": {},
      "cell_type": "markdown",
      "metadata": {},
      "source": [
        "> Setelah mengetahui beberapa info dasar, penulis kemudian melakukan eksplorasi lanjutan berupa pengecekan apakah ada data yang memiliki `duplicate` atau `missing value`, cek `distribusi data`, mencari `Insight` yang dapat disimpulkan, serta mencari hubungan setiap kolom terhadap kolom `price` yang merupakan target dari dataset ini"
      ]
    },
    {
      "attachments": {},
      "cell_type": "markdown",
      "metadata": {},
      "source": [
        "### Cek Missing Value dan Duplicate\n",
        "Semua algooritma machine learning tidak dapat dapat bekerja apabila terdapat missing value. Sedangkan data duplicate akan membuat hasil prediksi model menjadi bias. Sehingga dilakukan proses handling missing value dan data dupilkat"
      ]
    },
    {
      "cell_type": "code",
      "execution_count": 76,
      "metadata": {},
      "outputs": [
        {
          "name": "stdout",
          "output_type": "stream",
          "text": [
            "Tidak Ada Missing Value\n",
            "Duplicates Data : 1\n"
          ]
        }
      ],
      "source": [
        "# Cek missing value dan duplicated data\n",
        "num_miss_val = 0\n",
        "for i in df:\n",
        "    miss_val = df[i].isnull().sum()\n",
        "    if miss_val > 0:\n",
        "        print(i, ' : ', miss_val)\n",
        "        num_miss_val += 1\n",
        "\n",
        "if num_miss_val == 0:\n",
        "    print('Tidak Ada Missing Value')\n",
        "\n",
        "print(f\"Duplicates Data : {df.duplicated().sum()}\")"
      ]
    },
    {
      "attachments": {},
      "cell_type": "markdown",
      "metadata": {},
      "source": [
        "- Tidak ditemukan missing value pada dataset\n",
        "\n",
        "- Terdapat `1` data duplicate pada dataset. Karena salah satu kriteria ( asumsi ) yang harus di penuhi pada machine learning adalah `tidak ada duplicate data` maka harus dilakukan `trimming` pada data ini.\n"
      ]
    },
    {
      "cell_type": "code",
      "execution_count": 77,
      "metadata": {},
      "outputs": [],
      "source": [
        "# Drop data duplicate\n",
        "df = df.drop_duplicates()"
      ]
    },
    {
      "cell_type": "code",
      "execution_count": 78,
      "metadata": {},
      "outputs": [
        {
          "name": "stdout",
          "output_type": "stream",
          "text": [
            "Duplicates Data : 0\n"
          ]
        }
      ],
      "source": [
        "# Cek kembali data duplikat\n",
        "\n",
        "print(f\"Duplicates Data : {df.duplicated().sum()}\")"
      ]
    },
    {
      "attachments": {},
      "cell_type": "markdown",
      "metadata": {},
      "source": [
        "> Setelah tidak ada data yang memiliki missing value maupun data duplicate selanjutnya dilakukan analisa deskiriptif untuk memperoleh insight data dataset"
      ]
    },
    {
      "attachments": {},
      "cell_type": "markdown",
      "metadata": {},
      "source": [
        "### Analisa Deskriptif"
      ]
    },
    {
      "cell_type": "code",
      "execution_count": 79,
      "metadata": {},
      "outputs": [],
      "source": [
        "# Grouping beberapa kolom untuk mendapatkan insgigh\n",
        "df_sex_payment = df.groupby(['default_payment_next_month' ,'sex']).size()\n",
        "df_lim_balance = df.groupby('education_level')[['limit_balance']].mean()"
      ]
    },
    {
      "cell_type": "code",
      "execution_count": 80,
      "metadata": {},
      "outputs": [
        {
          "data": {
            "image/png": "[encoded data removed]",
            "text/plain": [
              "<Figure size 1600x1000 with 4 Axes>"
            ]
          },
          "metadata": {},
          "output_type": "display_data"
        }
      ],
      "source": [
        "# Plot hasil grouping agar memudahkan dalam memperoleh insight\n",
        "plt.figure( figsize=[16,10])\n",
        "\n",
        "plt.subplot(2,2,1)\n",
        "a = sns.barplot(data=df_lim_balance, y= 'limit_balance', x=df_lim_balance.index)\n",
        "a.set(title='Rata Rata Limit Balance Per Education Level ', ylabel='')\n",
        "\n",
        "label_sex_payment = ['Male Will Not Default', 'Female Will Not Default', 'Male Will Default', 'Female Will Default']\n",
        "plt.subplot(2,2,2)\n",
        "plt.pie(x=df_sex_payment, labels=label_sex_payment, autopct=\"%.2f%%\", explode=[0.005]*4)\n",
        "plt.title('Percentage Deafult or Not by Sex')\n",
        "\n",
        "plt.subplot(2,2,3)\n",
        "b = sns.scatterplot(data=df, x = 'age', y='limit_balance', hue='default_payment_next_month')\n",
        "b.set(title='Limit Balance by Age', ylabel='')\n",
        "\n",
        "plt.subplot(2,2,4)\n",
        "b = sns.barplot(data=df, x = 'marital_status', y='age', hue='default_payment_next_month', ci=None)\n",
        "b.set(title='Total Adult by Education ', ylabel='')\n",
        "plt.show()"
      ]
    },
    {
      "attachments": {},
      "cell_type": "markdown",
      "metadata": {},
      "source": [
        "Dari hasil plotting diatas diperoleh beberapa informasi sbb :\n",
        "- Tidak ada hubungan jenjang pendidikan dengan limit balance yang diberikan. Terbukti limit balance `graduate school` lebih tinggi dari `university` \n",
        "- Terdapat `8.8% pria` yang bulan depan akan `default` dan `12.6% wanita`. Sisanya sebanyak` 48.2% wanita` dan `30.4% pria` tidak mengalami default\n",
        "- Umur tidak mempengaruhi limit balance kartu kredit customer\n",
        "- Rata - rata usia customer yang sudah menikah mendekati 40 tahun sedangkan usia customer single sekitar 30 tahun.\n",
        "\n",
        "Selanjutnya penulis berfokus pada demografi customer yang akan mengalami `default` pada bulan depan"
      ]
    },
    {
      "cell_type": "code",
      "execution_count": 81,
      "metadata": {},
      "outputs": [],
      "source": [
        "# Query dan grouping data\n",
        "default_1_edu = df[df['default_payment_next_month']==1].groupby('education_level').size()\n",
        "default_1_marital = df[df['default_payment_next_month']==1].groupby('marital_status').size()\n",
        "default_1_sex = df[df['default_payment_next_month']==1].groupby('sex').size()\n",
        "default_1_lim_bal = df[df['default_payment_next_month']==1][['limit_balance']]"
      ]
    },
    {
      "cell_type": "code",
      "execution_count": 82,
      "metadata": {},
      "outputs": [],
      "source": [
        "# Make a cataegori for limit balance\n",
        "limit_balance_cat = []\n",
        "for i in default_1_lim_bal.values:\n",
        "    if i <= 50000:\n",
        "        limit_balance_cat.append('Under 50K')\n",
        "    elif i <= 100000:\n",
        "        limit_balance_cat.append('Under 100K')\n",
        "    elif i <= 200000:\n",
        "        limit_balance_cat.append('Under 200K')    \n",
        "    elif i <= 400000:\n",
        "        limit_balance_cat.append('Under 400K') \n",
        "    else:\n",
        "        limit_balance_cat.append('Over 400K')"
      ]
    },
    {
      "cell_type": "code",
      "execution_count": 83,
      "metadata": {},
      "outputs": [],
      "source": [
        "# Grouping customer based on limit balance category before\n",
        "default_1_lim_bal['limit_balance_cat'] = limit_balance_cat\n",
        "default_1_lim_bal_groupby = default_1_lim_bal.groupby('limit_balance_cat').size()"
      ]
    },
    {
      "cell_type": "code",
      "execution_count": 84,
      "metadata": {},
      "outputs": [
        {
          "data": {
            "image/png": "[encoded data removed]",
            "text/plain": [
              "<Figure size 1600x1000 with 4 Axes>"
            ]
          },
          "metadata": {},
          "output_type": "display_data"
        }
      ],
      "source": [
        "# Visualize query with pieplot\n",
        "plt.figure(figsize=[16,10])\n",
        "\n",
        "label_edu = ['Graduate School', 'University', 'High School','','Others']\n",
        "plt.subplot(2,2,1)\n",
        "plt.pie(x=default_1_edu, labels=label_edu, autopct=\"%.1f%%\", explode=[0.005]*5)\n",
        "plt.title('Percentage Will Default by Education')\n",
        "\n",
        "label_marital = ['Married', 'Single', 'Others']\n",
        "plt.subplot(2,2,2)\n",
        "plt.pie(x=default_1_marital, labels=label_marital, autopct=\"%.1f%%\", explode=[0.005]*3)\n",
        "plt.title('Percentage Will Default by Marital Status')\n",
        "\n",
        "label_sex = ['Male', 'Female']\n",
        "plt.subplot(2,2,3)\n",
        "plt.pie(x=default_1_sex, labels=label_sex, autopct=\"%.1f%%\", explode=[0.005]*2)\n",
        "plt.title('Percentage Will Default by Sex')\n",
        "\n",
        "label_lim_bal = ['Over 400K', '50k - 100K', '100K - 200K', '200k - 400K','Under 50K']\n",
        "plt.subplot(2,2,4)\n",
        "plt.pie(x=default_1_lim_bal_groupby, labels=label_lim_bal, autopct=\"%.1f%%\", explode=[0.005]*5)\n",
        "plt.title('Percentage Will Default by Limit Balance')\n",
        "\n",
        "plt.show()"
      ]
    },
    {
      "attachments": {},
      "cell_type": "markdown",
      "metadata": {},
      "source": [
        "Dari hasil *plotting* di atas, penulis dapat mengambil beberapa insight:\n",
        "\n",
        "- Berdasarkan jenjang pendidikan, terdapat perbedaan yang signifikan pada customer yang akan mengalami default bulan depan. Jenjang pendidikan `university` merupakan mayoritas yang akan mengalami default sebanyak `53.9%`disusul oleh `graduate school` dengan `23.9%` dan `high school` dengan `17.8%`\n",
        "- Sedangkan berdasarkan status pernikahan tidak terpaut jauh yakni `51.5%` dengan status `single` sisanya adalah customer yang sudah menikah. Sehingga penulis dapat mengasumsikan bahwa status pernikahan tidak mempengaruhi default.\n",
        "- Begitupun dari sisi gender. `Wanita` yang akan default sebanyak `58,7%` sisanya adalah `pria` sebanyak `41.3%`.\n",
        "- Yang menarik adalah mayoritas customer yang akan default memiliki limit balance `under 50K`. Sedangkan pada limit `'50k - 100K', '100K - 200K', '200k - 400K'` relatif sama pada range `19% - 22%` dan customer dengan limit `lebih dari 400K` hanya `1.4%`"
      ]
    },
    {
      "attachments": {},
      "cell_type": "markdown",
      "metadata": {},
      "source": [
        "### Feature Selection\n",
        "Tahap selanjutnya setelah analisa deskriptif adalah feature selection. \n",
        "\n",
        "Pada tahap ini penulis ingin mencari korelasi antara semua kolom dengan kolom `'default_payment_next_month'`. Metode yang digunakan adalah phi_k correlation. Nilai korelasi ini akan digunakan untuk menentukan apakah suatu kolom memiliki hubungan dengan kolom `'default_payment_next_month'`\n"
      ]
    },
    {
      "cell_type": "code",
      "execution_count": 85,
      "metadata": {},
      "outputs": [
        {
          "name": "stdout",
          "output_type": "stream",
          "text": [
            "interval columns not set, guessing: ['limit_balance', 'sex', 'education_level', 'marital_status', 'age', 'pay_0', 'pay_2', 'pay_3', 'pay_4', 'pay_5', 'pay_6', 'bill_amt_1', 'bill_amt_2', 'bill_amt_3', 'bill_amt_4', 'bill_amt_5', 'bill_amt_6', 'pay_amt_1', 'pay_amt_2', 'pay_amt_3', 'pay_amt_4', 'pay_amt_5', 'pay_amt_6', 'default_payment_next_month']\n"
          ]
        }
      ],
      "source": [
        "# Cek nilai korelasi semua fitur dengan kolom price\n",
        "val_phik = df.phik_matrix().default_payment_next_month"
      ]
    },
    {
      "cell_type": "code",
      "execution_count": 86,
      "metadata": {},
      "outputs": [
        {
          "data": {
            "text/plain": [
              "default_payment_next_month   1.00\n",
              "pay_0                        0.60\n",
              "pay_2                        0.47\n",
              "pay_6                        0.39\n",
              "pay_3                        0.33\n",
              "pay_4                        0.32\n",
              "pay_5                        0.32\n",
              "limit_balance                0.19\n",
              "bill_amt_4                   0.09\n",
              "education_level              0.09\n",
              "pay_amt_3                    0.08\n",
              "bill_amt_1                   0.07\n",
              "bill_amt_3                   0.07\n",
              "age                          0.07\n",
              "bill_amt_2                   0.06\n",
              "pay_amt_4                    0.06\n",
              "pay_amt_1                    0.05\n",
              "pay_amt_5                    0.02\n",
              "marital_status               0.02\n",
              "bill_amt_5                   0.02\n",
              "sex                          0.02\n",
              "pay_amt_2                    0.00\n",
              "bill_amt_6                   0.00\n",
              "pay_amt_6                    0.00\n",
              "Name: default_payment_next_month, dtype: float64"
            ]
          },
          "execution_count": 86,
          "metadata": {},
          "output_type": "execute_result"
        }
      ],
      "source": [
        "# Sort nilai korelasi phi_k secara descending\n",
        "val_phik.sort_values(ascending=False)"
      ]
    },
    {
      "attachments": {},
      "cell_type": "markdown",
      "metadata": {},
      "source": [
        "> Nilai korelasi `phi_k` adalah `0 = tidak berkorelasi` dan `1 = sangat berkorelasi`.\n",
        "Dari nilai ini penulis menentukan threshold `0.15` yang memiliki arti `minimal terdapat 15 percent koreleasi`\n",
        " \n",
        "> Kolom yang memiliki korelasi melebihi threshold adalah `pay_0, pay_2 ,pay_3, pay_4, pay_5, pay_6, limit_balance, default_payment_next_month`."
      ]
    },
    {
      "attachments": {},
      "cell_type": "markdown",
      "metadata": {},
      "source": [
        "Sehingga diperoleh dataset baru sepeti berikut ini"
      ]
    },
    {
      "cell_type": "code",
      "execution_count": 87,
      "metadata": {},
      "outputs": [
        {
          "data": {
            "text/html": [
              "<div>\n",
              "<style scoped>\n",
              "    .dataframe tbody tr th:only-of-type {\n",
              "        vertical-align: middle;\n",
              "    }\n",
              "\n",
              "    .dataframe tbody tr th {\n",
              "        vertical-align: top;\n",
              "    }\n",
              "\n",
              "    .dataframe thead th {\n",
              "        text-align: right;\n",
              "    }\n",
              "</style>\n",
              "<table border=\"1\" class=\"dataframe\">\n",
              "  <thead>\n",
              "    <tr style=\"text-align: right;\">\n",
              "      <th></th>\n",
              "      <th>pay_0</th>\n",
              "      <th>pay_2</th>\n",
              "      <th>pay_3</th>\n",
              "      <th>pay_4</th>\n",
              "      <th>pay_5</th>\n",
              "      <th>pay_6</th>\n",
              "      <th>limit_balance</th>\n",
              "      <th>default_payment_next_month</th>\n",
              "    </tr>\n",
              "  </thead>\n",
              "  <tbody>\n",
              "    <tr>\n",
              "      <th>0</th>\n",
              "      <td>0</td>\n",
              "      <td>0</td>\n",
              "      <td>0</td>\n",
              "      <td>0</td>\n",
              "      <td>0</td>\n",
              "      <td>0</td>\n",
              "      <td>130000</td>\n",
              "      <td>0</td>\n",
              "    </tr>\n",
              "    <tr>\n",
              "      <th>1</th>\n",
              "      <td>0</td>\n",
              "      <td>0</td>\n",
              "      <td>0</td>\n",
              "      <td>0</td>\n",
              "      <td>0</td>\n",
              "      <td>0</td>\n",
              "      <td>230000</td>\n",
              "      <td>1</td>\n",
              "    </tr>\n",
              "    <tr>\n",
              "      <th>2</th>\n",
              "      <td>0</td>\n",
              "      <td>0</td>\n",
              "      <td>0</td>\n",
              "      <td>0</td>\n",
              "      <td>0</td>\n",
              "      <td>0</td>\n",
              "      <td>200000</td>\n",
              "      <td>0</td>\n",
              "    </tr>\n",
              "  </tbody>\n",
              "</table>\n",
              "</div>"
            ],
            "text/plain": [
              "   pay_0  pay_2  pay_3  pay_4  pay_5  pay_6  limit_balance  \\\n",
              "0      0      0      0      0      0      0         130000   \n",
              "1      0      0      0      0      0      0         230000   \n",
              "2      0      0      0      0      0      0         200000   \n",
              "\n",
              "   default_payment_next_month  \n",
              "0                           0  \n",
              "1                           1  \n",
              "2                           0  "
            ]
          },
          "execution_count": 87,
          "metadata": {},
          "output_type": "execute_result"
        }
      ],
      "source": [
        "# Query dataset baru \n",
        "df_new = df[['pay_0', 'pay_2', 'pay_3', 'pay_4', 'pay_5', 'pay_6', 'limit_balance', 'default_payment_next_month']]\n",
        "df_new.head(3)"
      ]
    },
    {
      "attachments": {},
      "cell_type": "markdown",
      "metadata": {},
      "source": [
        "Selanjutnya, dengan dataset baru penulis melakukan pengecekan multicolinarity"
      ]
    },
    {
      "attachments": {},
      "cell_type": "markdown",
      "metadata": {},
      "source": [
        "### Cek Multicolinarity\n",
        "Pengecekan multicolinarity menggunakan nilai dari VIF ( Variance Inflation Factor )"
      ]
    },
    {
      "cell_type": "code",
      "execution_count": 88,
      "metadata": {},
      "outputs": [
        {
          "data": {
            "text/html": [
              "<div>\n",
              "<style scoped>\n",
              "    .dataframe tbody tr th:only-of-type {\n",
              "        vertical-align: middle;\n",
              "    }\n",
              "\n",
              "    .dataframe tbody tr th {\n",
              "        vertical-align: top;\n",
              "    }\n",
              "\n",
              "    .dataframe thead th {\n",
              "        text-align: right;\n",
              "    }\n",
              "</style>\n",
              "<table border=\"1\" class=\"dataframe\">\n",
              "  <thead>\n",
              "    <tr style=\"text-align: right;\">\n",
              "      <th></th>\n",
              "      <th>variables</th>\n",
              "      <th>VIF</th>\n",
              "    </tr>\n",
              "  </thead>\n",
              "  <tbody>\n",
              "    <tr>\n",
              "      <th>0</th>\n",
              "      <td>pay_0</td>\n",
              "      <td>1.96</td>\n",
              "    </tr>\n",
              "    <tr>\n",
              "      <th>1</th>\n",
              "      <td>pay_2</td>\n",
              "      <td>3.13</td>\n",
              "    </tr>\n",
              "    <tr>\n",
              "      <th>2</th>\n",
              "      <td>pay_3</td>\n",
              "      <td>3.41</td>\n",
              "    </tr>\n",
              "    <tr>\n",
              "      <th>3</th>\n",
              "      <td>pay_4</td>\n",
              "      <td>4.08</td>\n",
              "    </tr>\n",
              "    <tr>\n",
              "      <th>4</th>\n",
              "      <td>pay_5</td>\n",
              "      <td>4.81</td>\n",
              "    </tr>\n",
              "    <tr>\n",
              "      <th>5</th>\n",
              "      <td>pay_6</td>\n",
              "      <td>3.21</td>\n",
              "    </tr>\n",
              "    <tr>\n",
              "      <th>6</th>\n",
              "      <td>limit_balance</td>\n",
              "      <td>1.28</td>\n",
              "    </tr>\n",
              "    <tr>\n",
              "      <th>7</th>\n",
              "      <td>default_payment_next_month</td>\n",
              "      <td>1.28</td>\n",
              "    </tr>\n",
              "  </tbody>\n",
              "</table>\n",
              "</div>"
            ],
            "text/plain": [
              "                    variables  VIF\n",
              "0                       pay_0 1.96\n",
              "1                       pay_2 3.13\n",
              "2                       pay_3 3.41\n",
              "3                       pay_4 4.08\n",
              "4                       pay_5 4.81\n",
              "5                       pay_6 3.21\n",
              "6               limit_balance 1.28\n",
              "7  default_payment_next_month 1.28"
            ]
          },
          "execution_count": 88,
          "metadata": {},
          "output_type": "execute_result"
        }
      ],
      "source": [
        "def calc_vif(X):\n",
        "\n",
        "    # Calculating VIF\n",
        "    vif = pd.DataFrame()\n",
        "    vif[\"variables\"] = X.columns\n",
        "    vif[\"VIF\"] = [variance_inflation_factor(X.values, i) for i in range(X.shape[1])]\n",
        "\n",
        "    return(vif)\n",
        "\n",
        "X = df_new\n",
        "calc_vif(X)"
      ]
    },
    {
      "attachments": {},
      "cell_type": "markdown",
      "metadata": {},
      "source": [
        "Berdasarkan personal judgement, penulis menetapkan threshold untuk nilai `VIF` adalah `5`. Sehingga dari hasil query diatas `tidak ditemukan` fitur yang memiliki `multicolinarity`"
      ]
    },
    {
      "attachments": {},
      "cell_type": "markdown",
      "metadata": {},
      "source": [
        "## Cek Distribusi Data"
      ]
    },
    {
      "cell_type": "code",
      "execution_count": 89,
      "metadata": {},
      "outputs": [
        {
          "data": {
            "text/plain": [
              "[]"
            ]
          },
          "execution_count": 89,
          "metadata": {},
          "output_type": "execute_result"
        },
        {
          "data": {
            "image/png": "[encoded data removed]",
            "text/plain": [
              "<Figure size 1600x1600 with 8 Axes>"
            ]
          },
          "metadata": {},
          "output_type": "display_data"
        }
      ],
      "source": [
        "# plot distibrusi data\n",
        "plt.figure(figsize=[16,16])\n",
        "\n",
        "plt.subplot(421)\n",
        "sns.countplot(data=df_new, y='default_payment_next_month')\n",
        "\n",
        "plt.subplot(422)\n",
        "sns.histplot(data=df_new, x='limit_balance', bins=30, kde=True)\n",
        "\n",
        "plt.subplot(423)\n",
        "sns.countplot(data=df_new, y='pay_0')\n",
        "\n",
        "plt.subplot(424)\n",
        "sns.countplot(data=df_new, y='pay_2' )\n",
        "\n",
        "plt.subplot(425)\n",
        "sns.countplot(data=df_new, y='pay_3' )\n",
        "\n",
        "plt.subplot(426)\n",
        "sns.countplot(data=df_new, y='pay_4' )\n",
        "\n",
        "plt.subplot(427)\n",
        "sns.countplot(data=df_new, y='pay_5' )\n",
        "\n",
        "plt.subplot(428)\n",
        "sns.countplot(data=df_new, y='pay_6' )\n",
        "\n",
        "plt.plot()"
      ]
    },
    {
      "attachments": {},
      "cell_type": "markdown",
      "metadata": {},
      "source": [
        "Dari hasil plot diatas terdapat beberapa informasi yang dapat diiambil yaitu:\n",
        "- Distribusi data `default_payment_next_month` sebagai target tidak seimbang `(imbalance data)`\n",
        "- Beggitupun untuk kolom fitur `pay_0, pay_2, pay_3, pay_4, pay_5, pay_6 ` juga memiliki distribusi data `imbalance`\n",
        "- Pada data numerik, `limit_balance` memiliki distribusi data tidak normal dengan data berfokus pada sisi kiri \n",
        "\n",
        "Data imbalance untuk saat ini tidak dilakukan handling, namun hal ini akan berpengaruh pada jenis `scoring` dari prediksi machine learning. Dengan adanya imbalance data pada target maka scoring yang akan digunakan adalah `classification report` atau `confusion matrix`.\n",
        "\n",
        "Sedangkan pada data numerik akan dilakukan handling outlier agar distribusi data menjadi normal."
      ]
    },
    {
      "attachments": {},
      "cell_type": "markdown",
      "metadata": {
        "id": "HRIo5JZ-v1M6"
      },
      "source": [
        "# 5 - Feature Engineering"
      ]
    },
    {
      "attachments": {},
      "cell_type": "markdown",
      "metadata": {},
      "source": [
        "> Setelah memperoleh fitur dan target beserta informasi mengenai distribusi datanya, maka langkah selanjutnya adalah melakukan preprocessing data"
      ]
    },
    {
      "attachments": {},
      "cell_type": "markdown",
      "metadata": {},
      "source": [
        "## Menentukan Fitur Numerical Atau Categorical"
      ]
    },
    {
      "cell_type": "code",
      "execution_count": 90,
      "metadata": {},
      "outputs": [
        {
          "name": "stdout",
          "output_type": "stream",
          "text": [
            "Numerical Columns :  ['pay_0', 'pay_2', 'pay_3', 'pay_4', 'pay_5', 'pay_6', 'limit_balance', 'default_payment_next_month']\n",
            "Categorical Columns :  []\n"
          ]
        }
      ],
      "source": [
        "# Menentukan kolom numerikal dan kategorial\n",
        "\n",
        "num_columns = df_new.select_dtypes(include=np.number).columns.tolist()\n",
        "cat_columns = df_new.select_dtypes(include=np.object_).columns.tolist()\n",
        "\n",
        "print('Numerical Columns : ', num_columns)\n",
        "print('Categorical Columns : ', cat_columns)"
      ]
    },
    {
      "attachments": {},
      "cell_type": "markdown",
      "metadata": {},
      "source": [
        "Dari data diatas terlihat bahwa tidak ada data dengan tipe kategorikal. Namun melalui proses EDA sebelumnya, penulis mengetahui bahwa terdapat beberapa fitur `kategorial` yang telah di lakukan `encoding` sehingga memiliki nilai `numerik`. Sehingga penulis mementukan tipe data sebagai berikut"
      ]
    },
    {
      "cell_type": "code",
      "execution_count": 91,
      "metadata": {},
      "outputs": [
        {
          "name": "stdout",
          "output_type": "stream",
          "text": [
            "Numerical Columns :  ['limit_balance']\n",
            "Categorical Columns :  ['pay_0', 'pay_2', 'pay_3', 'pay_4', 'pay_5', 'pay_6']\n"
          ]
        }
      ],
      "source": [
        "# Menentukan kolom numerikal dan kategorial\n",
        "\n",
        "num_columns = ['limit_balance']\n",
        "cat_columns = ['pay_0', 'pay_2', 'pay_3', 'pay_4', 'pay_5', 'pay_6']\n",
        "\n",
        "print('Numerical Columns : ', num_columns)\n",
        "print('Categorical Columns : ', cat_columns)"
      ]
    },
    {
      "attachments": {},
      "cell_type": "markdown",
      "metadata": {},
      "source": [
        "> Kolom `'pay_0', 'pay_2', 'pay_3', 'pay_4', 'pay_5', 'pay_6'` adalah data kategorial sedangakan `'limit_balance'` adalah data numerik"
      ]
    },
    {
      "attachments": {},
      "cell_type": "markdown",
      "metadata": {
        "id": "Skv54voXziM6"
      },
      "source": [
        "## Splitting Train Test\n",
        "Karena data imbalance maka split data mempertimbangkan persentase imbalance data dengan mengatur parameter `stratify` pada fungsi train tes split"
      ]
    },
    {
      "cell_type": "code",
      "execution_count": 92,
      "metadata": {},
      "outputs": [
        {
          "name": "stdout",
          "output_type": "stream",
          "text": [
            "train size : (2371, 8)\n",
            "test size : (593, 8)\n"
          ]
        }
      ],
      "source": [
        "# Pisahkan data train dan data test dengan train test split\n",
        "data_train, data_test = train_test_split(df_new, test_size=0.2, random_state=412, stratify=df_new['default_payment_next_month'])\n",
        "print(f\"train size : {data_train.shape}\")\n",
        "print(f\"test size : {data_test.shape}\")"
      ]
    },
    {
      "cell_type": "code",
      "execution_count": 93,
      "metadata": {},
      "outputs": [],
      "source": [
        "# Reset Index data train dan data test\n",
        "data_train = data_train.reset_index(drop=True)\n",
        "data_test = data_test.reset_index(drop=True)"
      ]
    },
    {
      "attachments": {},
      "cell_type": "markdown",
      "metadata": {
        "id": "Ld3liX4qz-WY"
      },
      "source": [
        "## Handling Outlier\n",
        "Beberapa algoritma machine learning senstif terhadap outlier sehinggal dilakukan handling outlier berdasarkan distribusi datanya"
      ]
    },
    {
      "attachments": {},
      "cell_type": "markdown",
      "metadata": {
        "id": "Y_G_ldq11oC7"
      },
      "source": [
        "### Nilai Skew Fitur Numerikal"
      ]
    },
    {
      "cell_type": "code",
      "execution_count": 94,
      "metadata": {},
      "outputs": [
        {
          "name": "stdout",
          "output_type": "stream",
          "text": [
            "Nilai Skew limit_balance : 1.0654150132726317\n"
          ]
        }
      ],
      "source": [
        "# Looping untuk menghitung nilai skew fitur numerikal\n",
        "for i in data_train[num_columns]:\n",
        "        print(f'Nilai Skew {i} : {data_train[i].skew()}')"
      ]
    },
    {
      "attachments": {},
      "cell_type": "markdown",
      "metadata": {},
      "source": [
        "> Fitur `limit_balance` memiliki nilai skew `lebih besar dari 0.5` yang memiliki arti bahwa distribusi datanya tidak normal sehingga handle outlier dengan tukey's Rule."
      ]
    },
    {
      "cell_type": "code",
      "execution_count": 95,
      "metadata": {},
      "outputs": [],
      "source": [
        "# Buat fungsi untuk cek outliers\n",
        "def cek_outlier(data,col):\n",
        "  skew = data[col].skew()\n",
        "  if skew>=-0.5 and skew<=0.5:\n",
        "    up_lim = data[col].mean() + 3*data[col].std()\n",
        "    low_lim = data[col].mean() - 3*data[col].std()\n",
        "  else:\n",
        "    Q1 = np.percentile(data[col],25)\n",
        "    Q1 = data[col].quantile(0.25)\n",
        "    Q3 = data[col].quantile(0.75)\n",
        "    IQR = Q3 - Q1\n",
        "    up_lim = Q1 + (1.5*IQR)\n",
        "    low_lim = Q3 - (1.5*IQR)\n",
        "  \n",
        "  outliers = data[(data[col]<low_lim) | (data[col]>up_lim)]\n",
        "\n",
        "  return outliers, up_lim, low_lim"
      ]
    },
    {
      "cell_type": "code",
      "execution_count": 96,
      "metadata": {},
      "outputs": [
        {
          "name": "stdout",
          "output_type": "stream",
          "text": [
            "Persentase outlier Limit Balance : 11.30%\n"
          ]
        }
      ],
      "source": [
        "# Cek outlier column education num dan hours per week\n",
        "limit_balance_out,limit_balance_up, limit_balance_low = cek_outlier(data_train,'limit_balance')\n",
        "\n",
        "# Tampilkan persentase outlier masing masing fitur terhadap seluruh data train\n",
        "print(f'Persentase outlier Limit Balance : {len(limit_balance_out)/len(data_train)*100:.2f}%')"
      ]
    },
    {
      "attachments": {},
      "cell_type": "markdown",
      "metadata": {},
      "source": [
        "Persentase outlier pada fitur limit balance adalah `11%`. Karena jumlah keseluruhan data yang cukup besar, maka jumlah outlier ini masih dapat dilakukan `trimming`."
      ]
    },
    {
      "cell_type": "code",
      "execution_count": 97,
      "metadata": {},
      "outputs": [],
      "source": [
        "data_train = data_train[(data_train['limit_balance'] >= limit_balance_low) & (data_train['limit_balance'] <= limit_balance_up)]"
      ]
    },
    {
      "attachments": {},
      "cell_type": "markdown",
      "metadata": {},
      "source": [
        "Setelah melakukan trimming pada outlier, penulis kembali melakukan pengecekan pada `distribusi data` melalui nilai skewness"
      ]
    },
    {
      "cell_type": "code",
      "execution_count": 98,
      "metadata": {},
      "outputs": [
        {
          "name": "stdout",
          "output_type": "stream",
          "text": [
            "Nilai Skew limit_balance : 0.4993630306695545\n"
          ]
        }
      ],
      "source": [
        "# Looping untuk menghitung nilai skew fitur numerikal\n",
        "for i in data_train[num_columns]:\n",
        "        print(f'Nilai Skew {i} : {data_train[i].skew()}')\n"
      ]
    },
    {
      "attachments": {},
      "cell_type": "markdown",
      "metadata": {},
      "source": [
        "Dapat dilihat pada hasil print out bahwa distribusi data fitur `limit_balance` sudah normal dengan nilai skewnews dibawah 0.5 yaitu `0.49`"
      ]
    },
    {
      "attachments": {},
      "cell_type": "markdown",
      "metadata": {
        "id": "38_NeI6F1sUa"
      },
      "source": [
        "## Handling Missing Values\n",
        "Seletah handling outlier, selanjutnya pengecekan missing value dan kemudian dilakukan handling apabila ditemukan missing value"
      ]
    },
    {
      "cell_type": "code",
      "execution_count": 99,
      "metadata": {
        "colab": {
          "base_uri": "https://localhost:8080/"
        },
        "id": "9aogBe_e2ACe",
        "outputId": "4e2fc0c8-3887-481a-9780-8161234f9001"
      },
      "outputs": [
        {
          "data": {
            "text/plain": [
              "pay_0                         0\n",
              "pay_2                         0\n",
              "pay_3                         0\n",
              "pay_4                         0\n",
              "pay_5                         0\n",
              "pay_6                         0\n",
              "limit_balance                 0\n",
              "default_payment_next_month    0\n",
              "dtype: int64"
            ]
          },
          "execution_count": 99,
          "metadata": {},
          "output_type": "execute_result"
        }
      ],
      "source": [
        "# Check Missing Values pada data train\n",
        "data_train.isnull().sum()"
      ]
    },
    {
      "cell_type": "code",
      "execution_count": 100,
      "metadata": {
        "colab": {
          "base_uri": "https://localhost:8080/"
        },
        "id": "Tjs7dPQ92IjL",
        "outputId": "4584d9dc-50bc-48df-9e77-bed1825082b0"
      },
      "outputs": [
        {
          "data": {
            "text/plain": [
              "pay_0                         0\n",
              "pay_2                         0\n",
              "pay_3                         0\n",
              "pay_4                         0\n",
              "pay_5                         0\n",
              "pay_6                         0\n",
              "limit_balance                 0\n",
              "default_payment_next_month    0\n",
              "dtype: int64"
            ]
          },
          "execution_count": 100,
          "metadata": {},
          "output_type": "execute_result"
        }
      ],
      "source": [
        "# Check Missing Values pada data test\n",
        "data_test.isnull().sum()"
      ]
    },
    {
      "attachments": {},
      "cell_type": "markdown",
      "metadata": {},
      "source": [
        "> Dari pengecekan `data train` dan `data test` tidak ditemukan kolom yang memiliki `missing value`"
      ]
    },
    {
      "attachments": {},
      "cell_type": "markdown",
      "metadata": {},
      "source": [
        "## Splitting Fitur Target"
      ]
    },
    {
      "attachments": {},
      "cell_type": "markdown",
      "metadata": {},
      "source": [
        "> Setelah dataset bersih dari outlier dan missing value, selanjutnya memisahkan `fitur` dengan `target` dari masing masing `data train` dan `data test`"
      ]
    },
    {
      "cell_type": "code",
      "execution_count": 101,
      "metadata": {},
      "outputs": [
        {
          "data": {
            "text/html": [
              "<div>\n",
              "<style scoped>\n",
              "    .dataframe tbody tr th:only-of-type {\n",
              "        vertical-align: middle;\n",
              "    }\n",
              "\n",
              "    .dataframe tbody tr th {\n",
              "        vertical-align: top;\n",
              "    }\n",
              "\n",
              "    .dataframe thead th {\n",
              "        text-align: right;\n",
              "    }\n",
              "</style>\n",
              "<table border=\"1\" class=\"dataframe\">\n",
              "  <thead>\n",
              "    <tr style=\"text-align: right;\">\n",
              "      <th></th>\n",
              "      <th>pay_0</th>\n",
              "      <th>pay_2</th>\n",
              "      <th>pay_3</th>\n",
              "      <th>pay_4</th>\n",
              "      <th>pay_5</th>\n",
              "      <th>pay_6</th>\n",
              "      <th>limit_balance</th>\n",
              "    </tr>\n",
              "  </thead>\n",
              "  <tbody>\n",
              "    <tr>\n",
              "      <th>0</th>\n",
              "      <td>0</td>\n",
              "      <td>0</td>\n",
              "      <td>0</td>\n",
              "      <td>0</td>\n",
              "      <td>0</td>\n",
              "      <td>0</td>\n",
              "      <td>50000</td>\n",
              "    </tr>\n",
              "    <tr>\n",
              "      <th>1</th>\n",
              "      <td>0</td>\n",
              "      <td>-1</td>\n",
              "      <td>-1</td>\n",
              "      <td>-1</td>\n",
              "      <td>-1</td>\n",
              "      <td>-1</td>\n",
              "      <td>140000</td>\n",
              "    </tr>\n",
              "    <tr>\n",
              "      <th>2</th>\n",
              "      <td>-2</td>\n",
              "      <td>-2</td>\n",
              "      <td>-2</td>\n",
              "      <td>-2</td>\n",
              "      <td>-2</td>\n",
              "      <td>-2</td>\n",
              "      <td>230000</td>\n",
              "    </tr>\n",
              "  </tbody>\n",
              "</table>\n",
              "</div>"
            ],
            "text/plain": [
              "   pay_0  pay_2  pay_3  pay_4  pay_5  pay_6  limit_balance\n",
              "0      0      0      0      0      0      0          50000\n",
              "1      0     -1     -1     -1     -1     -1         140000\n",
              "2     -2     -2     -2     -2     -2     -2         230000"
            ]
          },
          "execution_count": 101,
          "metadata": {},
          "output_type": "execute_result"
        }
      ],
      "source": [
        "# Split  `X` (Features) dan `y` (Target) pada Data Train\n",
        "\n",
        "X_train = data_train.drop('default_payment_next_month', axis=1)\n",
        "y_train = data_train['default_payment_next_month']\n",
        "X_train.head(3)"
      ]
    },
    {
      "cell_type": "code",
      "execution_count": 102,
      "metadata": {},
      "outputs": [
        {
          "data": {
            "text/html": [
              "<div>\n",
              "<style scoped>\n",
              "    .dataframe tbody tr th:only-of-type {\n",
              "        vertical-align: middle;\n",
              "    }\n",
              "\n",
              "    .dataframe tbody tr th {\n",
              "        vertical-align: top;\n",
              "    }\n",
              "\n",
              "    .dataframe thead th {\n",
              "        text-align: right;\n",
              "    }\n",
              "</style>\n",
              "<table border=\"1\" class=\"dataframe\">\n",
              "  <thead>\n",
              "    <tr style=\"text-align: right;\">\n",
              "      <th></th>\n",
              "      <th>pay_0</th>\n",
              "      <th>pay_2</th>\n",
              "      <th>pay_3</th>\n",
              "      <th>pay_4</th>\n",
              "      <th>pay_5</th>\n",
              "      <th>pay_6</th>\n",
              "      <th>limit_balance</th>\n",
              "    </tr>\n",
              "  </thead>\n",
              "  <tbody>\n",
              "    <tr>\n",
              "      <th>0</th>\n",
              "      <td>0</td>\n",
              "      <td>0</td>\n",
              "      <td>0</td>\n",
              "      <td>0</td>\n",
              "      <td>0</td>\n",
              "      <td>0</td>\n",
              "      <td>90000</td>\n",
              "    </tr>\n",
              "    <tr>\n",
              "      <th>1</th>\n",
              "      <td>0</td>\n",
              "      <td>0</td>\n",
              "      <td>0</td>\n",
              "      <td>0</td>\n",
              "      <td>0</td>\n",
              "      <td>0</td>\n",
              "      <td>30000</td>\n",
              "    </tr>\n",
              "    <tr>\n",
              "      <th>2</th>\n",
              "      <td>1</td>\n",
              "      <td>-1</td>\n",
              "      <td>-1</td>\n",
              "      <td>0</td>\n",
              "      <td>-1</td>\n",
              "      <td>-1</td>\n",
              "      <td>280000</td>\n",
              "    </tr>\n",
              "  </tbody>\n",
              "</table>\n",
              "</div>"
            ],
            "text/plain": [
              "   pay_0  pay_2  pay_3  pay_4  pay_5  pay_6  limit_balance\n",
              "0      0      0      0      0      0      0          90000\n",
              "1      0      0      0      0      0      0          30000\n",
              "2      1     -1     -1      0     -1     -1         280000"
            ]
          },
          "execution_count": 102,
          "metadata": {},
          "output_type": "execute_result"
        }
      ],
      "source": [
        "# Split  `X` (Features) dan `y` (Target) pada Data Test\n",
        "\n",
        "X_test = data_test.drop('default_payment_next_month', axis=1)\n",
        "y_test = data_test['default_payment_next_month']\n",
        "X_test.head(3)"
      ]
    },
    {
      "cell_type": "markdown",
      "metadata": {
        "id": "lYmslA4r40s3"
      },
      "source": [
        "## Split between Numerical Columns and Categorical Columns"
      ]
    },
    {
      "attachments": {},
      "cell_type": "markdown",
      "metadata": {},
      "source": [
        "> Dataset memiliki 2 tipe fitur yaitu `numerikal` dan `kategorial`. Namun karena data `kategorikal` sudah berbentuk numerik, maka dilakukan scalling bersamaan dengan data `numerikal`"
      ]
    },
    {
      "cell_type": "markdown",
      "metadata": {
        "id": "oC5p5YDD6hyV"
      },
      "source": [
        "## Feature Scaling"
      ]
    },
    {
      "cell_type": "code",
      "execution_count": 103,
      "metadata": {
        "colab": {
          "base_uri": "https://localhost:8080/",
          "height": 488
        },
        "id": "1TIt43rt6hiq",
        "outputId": "3a4d39aa-65f7-4c3c-c113-fa750fdf7a5e"
      },
      "outputs": [
        {
          "data": {
            "text/html": [
              "<div>\n",
              "<style scoped>\n",
              "    .dataframe tbody tr th:only-of-type {\n",
              "        vertical-align: middle;\n",
              "    }\n",
              "\n",
              "    .dataframe tbody tr th {\n",
              "        vertical-align: top;\n",
              "    }\n",
              "\n",
              "    .dataframe thead th {\n",
              "        text-align: right;\n",
              "    }\n",
              "</style>\n",
              "<table border=\"1\" class=\"dataframe\">\n",
              "  <thead>\n",
              "    <tr style=\"text-align: right;\">\n",
              "      <th></th>\n",
              "      <th>pay_0</th>\n",
              "      <th>pay_2</th>\n",
              "      <th>pay_3</th>\n",
              "      <th>pay_4</th>\n",
              "      <th>pay_5</th>\n",
              "      <th>pay_6</th>\n",
              "      <th>limit_balance</th>\n",
              "    </tr>\n",
              "  </thead>\n",
              "  <tbody>\n",
              "    <tr>\n",
              "      <th>0</th>\n",
              "      <td>0</td>\n",
              "      <td>0</td>\n",
              "      <td>0</td>\n",
              "      <td>0</td>\n",
              "      <td>0</td>\n",
              "      <td>0</td>\n",
              "      <td>50000</td>\n",
              "    </tr>\n",
              "    <tr>\n",
              "      <th>1</th>\n",
              "      <td>0</td>\n",
              "      <td>-1</td>\n",
              "      <td>-1</td>\n",
              "      <td>-1</td>\n",
              "      <td>-1</td>\n",
              "      <td>-1</td>\n",
              "      <td>140000</td>\n",
              "    </tr>\n",
              "    <tr>\n",
              "      <th>2</th>\n",
              "      <td>-2</td>\n",
              "      <td>-2</td>\n",
              "      <td>-2</td>\n",
              "      <td>-2</td>\n",
              "      <td>-2</td>\n",
              "      <td>-2</td>\n",
              "      <td>230000</td>\n",
              "    </tr>\n",
              "  </tbody>\n",
              "</table>\n",
              "</div>"
            ],
            "text/plain": [
              "   pay_0  pay_2  pay_3  pay_4  pay_5  pay_6  limit_balance\n",
              "0      0      0      0      0      0      0          50000\n",
              "1      0     -1     -1     -1     -1     -1         140000\n",
              "2     -2     -2     -2     -2     -2     -2         230000"
            ]
          },
          "execution_count": 103,
          "metadata": {},
          "output_type": "execute_result"
        }
      ],
      "source": [
        "# Tampilkan numerikal data train\n",
        "X_train.head(3)"
      ]
    },
    {
      "attachments": {},
      "cell_type": "markdown",
      "metadata": {},
      "source": [
        "> Karena distribusi data pada fitur `numerikal` sudah `normal`, maka scaling dilakukan dengan menggunakan `StandarScaler`"
      ]
    },
    {
      "cell_type": "code",
      "execution_count": 104,
      "metadata": {
        "colab": {
          "base_uri": "https://localhost:8080/"
        },
        "id": "wNp903EP6hc2",
        "outputId": "32d425be-f54f-459b-e522-76756982ec1e"
      },
      "outputs": [
        {
          "data": {
            "text/html": [
              "<div>\n",
              "<style scoped>\n",
              "    .dataframe tbody tr th:only-of-type {\n",
              "        vertical-align: middle;\n",
              "    }\n",
              "\n",
              "    .dataframe tbody tr th {\n",
              "        vertical-align: top;\n",
              "    }\n",
              "\n",
              "    .dataframe thead th {\n",
              "        text-align: right;\n",
              "    }\n",
              "</style>\n",
              "<table border=\"1\" class=\"dataframe\">\n",
              "  <thead>\n",
              "    <tr style=\"text-align: right;\">\n",
              "      <th></th>\n",
              "      <th>pay_0</th>\n",
              "      <th>pay_2</th>\n",
              "      <th>pay_3</th>\n",
              "      <th>pay_4</th>\n",
              "      <th>pay_5</th>\n",
              "      <th>pay_6</th>\n",
              "      <th>limit_balance</th>\n",
              "    </tr>\n",
              "  </thead>\n",
              "  <tbody>\n",
              "    <tr>\n",
              "      <th>0</th>\n",
              "      <td>-0.06</td>\n",
              "      <td>0.04</td>\n",
              "      <td>0.05</td>\n",
              "      <td>0.11</td>\n",
              "      <td>0.16</td>\n",
              "      <td>0.17</td>\n",
              "      <td>-0.91</td>\n",
              "    </tr>\n",
              "    <tr>\n",
              "      <th>1</th>\n",
              "      <td>-0.06</td>\n",
              "      <td>-0.82</td>\n",
              "      <td>-0.79</td>\n",
              "      <td>-0.73</td>\n",
              "      <td>-0.70</td>\n",
              "      <td>-0.67</td>\n",
              "      <td>0.13</td>\n",
              "    </tr>\n",
              "    <tr>\n",
              "      <th>2</th>\n",
              "      <td>-1.91</td>\n",
              "      <td>-1.68</td>\n",
              "      <td>-1.63</td>\n",
              "      <td>-1.57</td>\n",
              "      <td>-1.56</td>\n",
              "      <td>-1.52</td>\n",
              "      <td>1.17</td>\n",
              "    </tr>\n",
              "  </tbody>\n",
              "</table>\n",
              "</div>"
            ],
            "text/plain": [
              "   pay_0  pay_2  pay_3  pay_4  pay_5  pay_6  limit_balance\n",
              "0  -0.06   0.04   0.05   0.11   0.16   0.17          -0.91\n",
              "1  -0.06  -0.82  -0.79  -0.73  -0.70  -0.67           0.13\n",
              "2  -1.91  -1.68  -1.63  -1.57  -1.56  -1.52           1.17"
            ]
          },
          "execution_count": 104,
          "metadata": {},
          "output_type": "execute_result"
        }
      ],
      "source": [
        "# Feature Scaling using Standard Karena Distribusi Sudah Memiliki Distribusi Normal\n",
        "\n",
        "scaler = StandardScaler()\n",
        "feature_names = scaler.get_feature_names_out(input_features=X_train.columns)\n",
        "\n",
        "X_train_num_scaled = scaler.fit_transform(X_train)\n",
        "X_train_num_scaled = pd.DataFrame(X_train_num_scaled, columns=feature_names)\n",
        "\n",
        "X_test_num_scaled = scaler.transform(X_test)\n",
        "X_test_num_scaled = pd.DataFrame(X_test_num_scaled, columns=feature_names)\n",
        "\n",
        "X_train_num_scaled.head(3)"
      ]
    },
    {
      "attachments": {},
      "cell_type": "markdown",
      "metadata": {
        "id": "0odKc7md9CmE"
      },
      "source": [
        "## Feature Encoding\n",
        "Karena semua fitur `kategorikal` sudah dalam bentuk `numerik` , maka encoding dilakukan `scalling` saja sekaligus dengan Data Numerik"
      ]
    },
    {
      "attachments": {},
      "cell_type": "markdown",
      "metadata": {
        "id": "rTIXeesw-SOX"
      },
      "source": [
        "## Making Final Data"
      ]
    },
    {
      "attachments": {},
      "cell_type": "markdown",
      "metadata": {},
      "source": [
        "Karena data hanya dilakukan proses scalling, maka data train final adalah data yang di scaled"
      ]
    },
    {
      "cell_type": "code",
      "execution_count": 105,
      "metadata": {
        "colab": {
          "base_uri": "https://localhost:8080/"
        },
        "id": "lpcwLpP--cr-",
        "outputId": "984cc935-3d3d-4c53-d7a2-3741132a2aee"
      },
      "outputs": [
        {
          "data": {
            "text/html": [
              "<div>\n",
              "<style scoped>\n",
              "    .dataframe tbody tr th:only-of-type {\n",
              "        vertical-align: middle;\n",
              "    }\n",
              "\n",
              "    .dataframe tbody tr th {\n",
              "        vertical-align: top;\n",
              "    }\n",
              "\n",
              "    .dataframe thead th {\n",
              "        text-align: right;\n",
              "    }\n",
              "</style>\n",
              "<table border=\"1\" class=\"dataframe\">\n",
              "  <thead>\n",
              "    <tr style=\"text-align: right;\">\n",
              "      <th></th>\n",
              "      <th>pay_0</th>\n",
              "      <th>pay_2</th>\n",
              "      <th>pay_3</th>\n",
              "      <th>pay_4</th>\n",
              "      <th>pay_5</th>\n",
              "      <th>pay_6</th>\n",
              "      <th>limit_balance</th>\n",
              "    </tr>\n",
              "  </thead>\n",
              "  <tbody>\n",
              "    <tr>\n",
              "      <th>0</th>\n",
              "      <td>-0.06</td>\n",
              "      <td>0.04</td>\n",
              "      <td>0.05</td>\n",
              "      <td>0.11</td>\n",
              "      <td>0.16</td>\n",
              "      <td>0.17</td>\n",
              "      <td>-0.91</td>\n",
              "    </tr>\n",
              "    <tr>\n",
              "      <th>1</th>\n",
              "      <td>-0.06</td>\n",
              "      <td>-0.82</td>\n",
              "      <td>-0.79</td>\n",
              "      <td>-0.73</td>\n",
              "      <td>-0.70</td>\n",
              "      <td>-0.67</td>\n",
              "      <td>0.13</td>\n",
              "    </tr>\n",
              "    <tr>\n",
              "      <th>2</th>\n",
              "      <td>-1.91</td>\n",
              "      <td>-1.68</td>\n",
              "      <td>-1.63</td>\n",
              "      <td>-1.57</td>\n",
              "      <td>-1.56</td>\n",
              "      <td>-1.52</td>\n",
              "      <td>1.17</td>\n",
              "    </tr>\n",
              "  </tbody>\n",
              "</table>\n",
              "</div>"
            ],
            "text/plain": [
              "   pay_0  pay_2  pay_3  pay_4  pay_5  pay_6  limit_balance\n",
              "0  -0.06   0.04   0.05   0.11   0.16   0.17          -0.91\n",
              "1  -0.06  -0.82  -0.79  -0.73  -0.70  -0.67           0.13\n",
              "2  -1.91  -1.68  -1.63  -1.57  -1.56  -1.52           1.17"
            ]
          },
          "execution_count": 105,
          "metadata": {},
          "output_type": "execute_result"
        }
      ],
      "source": [
        "# Gabungkan kembali fitur numerikal dan kategorial\n",
        "\n",
        "X_train_final = X_train_num_scaled\n",
        "X_test_final = X_test_num_scaled\n",
        "\n",
        "X_train_final.head(3)"
      ]
    },
    {
      "attachments": {},
      "cell_type": "markdown",
      "metadata": {
        "id": "PeZTcBgy_mD8"
      },
      "source": [
        "# 6 - Model Definition"
      ]
    },
    {
      "attachments": {},
      "cell_type": "markdown",
      "metadata": {},
      "source": [
        "Untuk menentukan algoritma model yang akan di pakai, penulis melakukan `cross validation` pada beberapa `algoritma supervised learning` dengan `default parameter` dari masing masing algoritma kemudian `memilih` algoritma yang memiliki rata rata score `paling tinggi`.\n",
        "\n",
        "Metode scoring yang akan dipakai adalah `recall` pada target dengan value `1`. Penulis menggunakan metode scoring ini karena model yang akan dibangun bertujuan untuk `memprediksi default pada customer credict card`. Sehingga model yang dibangun harus memiliki kesalahan prediksi seminimal mungkin pada kondisi aktual mengalami default namun model memprediksi tidak default ( False Negatif )"
      ]
    },
    {
      "attachments": {},
      "cell_type": "markdown",
      "metadata": {},
      "source": [
        "## Cross Validation Beberapa Model"
      ]
    },
    {
      "cell_type": "code",
      "execution_count": 106,
      "metadata": {},
      "outputs": [
        {
          "name": "stdout",
          "output_type": "stream",
          "text": [
            "\n",
            "Model LogisticRegression()\n",
            "Recall Score - All - Cross Validation  :  [0.33333333 0.3081761  0.27672956]\n",
            "Recall Score - Mean - Cross Validation :  0.3060796645702306\n",
            "Recall Score - Std - Cross Validation  :  0.023155893117792994\n",
            "Recall Score - Range of Test-Set       :  0.28292377145243763 - 0.3292355576880236\n",
            "\n",
            "Model SVC()\n",
            "Recall Score - All - Cross Validation  :  [0.38993711 0.44654088 0.42767296]\n",
            "Recall Score - Mean - Cross Validation :  0.4213836477987421\n",
            "Recall Score - Std - Cross Validation  :  0.023532436394804658\n",
            "Recall Score - Range of Test-Set       :  0.3978512114039374 - 0.4449160841935468\n",
            "\n",
            "Model DecisionTreeClassifier()\n",
            "Recall Score - All - Cross Validation  :  [0.31446541 0.40880503 0.41509434]\n",
            "Recall Score - Mean - Cross Validation :  0.37945492662473795\n",
            "Recall Score - Std - Cross Validation  :  0.046026202096646034\n",
            "Recall Score - Range of Test-Set       :  0.3334287245280919 - 0.425481128721384\n",
            "\n",
            "Model RandomForestClassifier()\n",
            "Recall Score - All - Cross Validation  :  [0.38993711 0.42138365 0.35849057]\n",
            "Recall Score - Mean - Cross Validation :  0.38993710691823896\n",
            "Recall Score - Std - Cross Validation  :  0.0256759931109348\n",
            "Recall Score - Range of Test-Set       :  0.36426111380730414 - 0.4156131000291738\n",
            "\n",
            "Model KNeighborsClassifier()\n",
            "Recall Score - All - Cross Validation  :  [0.45283019 0.42138365 0.34591195]\n",
            "Recall Score - Mean - Cross Validation :  0.40670859538784065\n",
            "Recall Score - Std - Cross Validation  :  0.044865690899439634\n",
            "Recall Score - Range of Test-Set       :  0.361842904488401 - 0.4515742862872803\n",
            "\n",
            "Model GaussianNB()\n",
            "Recall Score - All - Cross Validation  :  [0.4591195  0.45283019 0.45283019]\n",
            "Recall Score - Mean - Cross Validation :  0.4549266247379455\n",
            "Recall Score - Std - Cross Validation  :  0.002964808306861834\n",
            "Recall Score - Range of Test-Set       :  0.45196181643108363 - 0.45789143304480734\n",
            "\n",
            "Model GradientBoostingClassifier()\n",
            "Recall Score - All - Cross Validation  :  [0.37735849 0.44654088 0.46540881]\n",
            "Recall Score - Mean - Cross Validation :  0.429769392033543\n",
            "Recall Score - Std - Cross Validation  :  0.03785213854353833\n",
            "Recall Score - Range of Test-Set       :  0.3919172534900046 - 0.46762153057708133\n",
            "\n",
            "Best Model : GaussianNB()\n",
            "Best Score : 0.4549266247379455\n"
          ]
        }
      ],
      "source": [
        "all_model = [LogisticRegression(), SVC(), DecisionTreeClassifier(), RandomForestClassifier(),\n",
        " KNeighborsClassifier(), GaussianNB(), GradientBoostingClassifier()]\n",
        "\n",
        "best_model = []\n",
        "best_score = 0\n",
        "\n",
        "for i in all_model:\n",
        "    model = i\n",
        "    model_cv =cross_val_score(model,X_train_final,y_train,cv=StratifiedKFold(n_splits=3, random_state = 2, shuffle= True ),scoring=\"recall\")\n",
        "    if model_cv.mean() > best_score:\n",
        "        best_model = i\n",
        "        best_score = model_cv.mean()\n",
        "\n",
        "    print(f'\\nModel {i}')\n",
        "    print('Recall Score - All - Cross Validation  : ', model_cv)\n",
        "    print('Recall Score - Mean - Cross Validation : ', model_cv.mean())\n",
        "    print('Recall Score - Std - Cross Validation  : ', model_cv.std())\n",
        "    print('Recall Score - Range of Test-Set       : ', (model_cv.mean()-model_cv.std()) , '-', (model_cv.mean()+model_cv.std()))\n",
        "\n",
        "print(f'\\nBest Model : {best_model}')\n",
        "print(f'Best Score : {best_score}')"
      ]
    },
    {
      "attachments": {},
      "cell_type": "markdown",
      "metadata": {},
      "source": [
        "Dari hasil pengecekan cross validate diperoleh algoritma `GaussianNB` yang memiliki score rata - rata paling tinggi yaitu `0.458`. Namun penulis akan melakukan building model dengan 2 algoritma terbaik sehingga dipilih algoritman dengan peringkat score kedua yaitu `GradientBoostingClassifier` dengan score rata - rata `0.429`"
      ]
    },
    {
      "attachments": {},
      "cell_type": "markdown",
      "metadata": {},
      "source": [
        "### Model Definition\n"
      ]
    },
    {
      "cell_type": "code",
      "execution_count": 135,
      "metadata": {},
      "outputs": [],
      "source": [
        "# Make column transformer\n",
        "preprocessor = ColumnTransformer(\n",
        "    transformers=[\n",
        "        (\"scale\", scaler,X_train.columns)\n",
        "    ])\n",
        "\n",
        "# Make a model with pipeline for baseline parameter\n",
        "nb_model = Pipeline(steps=[('preprocessor', preprocessor), ('nb', GaussianNB())])\n",
        "gbc_model = Pipeline(steps=[('preprocessor', preprocessor), ('gbc', GradientBoostingClassifier())])"
      ]
    },
    {
      "attachments": {},
      "cell_type": "markdown",
      "metadata": {
        "id": "XudxBSKaBKsn"
      },
      "source": [
        "# 7 - Model Training"
      ]
    },
    {
      "cell_type": "code",
      "execution_count": 108,
      "metadata": {
        "colab": {
          "base_uri": "https://localhost:8080/"
        },
        "id": "2TrTtq-2BIh3",
        "outputId": "dac2cc06-f10e-424b-97dc-73c1e59ddce5"
      },
      "outputs": [
        {
          "data": {
            "text/plain": [
              "Pipeline(steps=[('preprocessor',\n",
              "                 ColumnTransformer(transformers=[('scale', StandardScaler(),\n",
              "                                                  Index(['pay_0', 'pay_2', 'pay_3', 'pay_4', 'pay_5', 'pay_6', 'limit_balance'], dtype='object'))])),\n",
              "                ('gbc', GradientBoostingClassifier())])"
            ]
          },
          "execution_count": 108,
          "metadata": {},
          "output_type": "execute_result"
        }
      ],
      "source": [
        "# Train Baseline Model Naive Bayes And Gradient Boosting\n",
        "nb_model.fit(X_train, y_train)\n",
        "gbc_model.fit(X_train, y_train)"
      ]
    },
    {
      "attachments": {},
      "cell_type": "markdown",
      "metadata": {
        "id": "07ROKh92CDI7"
      },
      "source": [
        "# 8 - Model Evaluation"
      ]
    },
    {
      "attachments": {},
      "cell_type": "markdown",
      "metadata": {},
      "source": [
        "> Metrics evaluasi yang digunakan adalah `Confusion Matrix` dan `Classification Report`.\n",
        "> - `Classification Report` : Digunakan untuk Besaran Nilai dari hasil perhitungan antara hasil prediksi model dengan data aktual\n",
        "> - `Confusion Matrix` : Digunakan untuk melihat peebandingan hasil prediksi model dengan data aktual dalam bentuk matrix."
      ]
    },
    {
      "attachments": {},
      "cell_type": "markdown",
      "metadata": {},
      "source": [
        "### Predict Data"
      ]
    },
    {
      "cell_type": "code",
      "execution_count": 109,
      "metadata": {},
      "outputs": [],
      "source": [
        "# Predict Data Train and Data Test with Naive Bayes\n",
        "y_pred_train_nb = nb_model.predict(X_train)\n",
        "y_pred_test_nb = nb_model.predict(X_test)\n",
        "\n",
        "y_pred_train_gbc = gbc_model.predict(X_train)\n",
        "y_pred_test_gbc = gbc_model.predict(X_test)"
      ]
    },
    {
      "attachments": {},
      "cell_type": "markdown",
      "metadata": {},
      "source": [
        "### Classification Report\n",
        "#### Model Naive Bayes"
      ]
    },
    {
      "cell_type": "code",
      "execution_count": 110,
      "metadata": {},
      "outputs": [
        {
          "name": "stdout",
          "output_type": "stream",
          "text": [
            "              precision    recall  f1-score   support\n",
            "\n",
            "           0       0.85      0.91      0.88      1626\n",
            "           1       0.60      0.45      0.52       477\n",
            "\n",
            "    accuracy                           0.81      2103\n",
            "   macro avg       0.73      0.68      0.70      2103\n",
            "weighted avg       0.79      0.81      0.80      2103\n",
            "\n"
          ]
        }
      ],
      "source": [
        "print(classification_report(y_train, y_pred_train_nb))"
      ]
    },
    {
      "cell_type": "code",
      "execution_count": 111,
      "metadata": {},
      "outputs": [
        {
          "name": "stdout",
          "output_type": "stream",
          "text": [
            "              precision    recall  f1-score   support\n",
            "\n",
            "           0       0.86      0.91      0.88       466\n",
            "           1       0.58      0.47      0.52       127\n",
            "\n",
            "    accuracy                           0.81       593\n",
            "   macro avg       0.72      0.69      0.70       593\n",
            "weighted avg       0.80      0.81      0.81       593\n",
            "\n"
          ]
        }
      ],
      "source": [
        "print(classification_report(y_test, y_pred_test_nb))"
      ]
    },
    {
      "attachments": {},
      "cell_type": "markdown",
      "metadata": {},
      "source": [
        "Sesuai penjelasan metode scorring pada bagian model definition, model ini memakai metode scorring `recall`. Nilai Recall dari model `Naive Bayes` dengan hyperparameter `baseline` pada `data train` adalah `0.45`\n",
        "\n",
        "Sedangkan untuk performance pada `data test` adalah `0.47`. Apabila dibandingkan dengan performance pada data train maka model ini adalah `best-fit`. Namun apabila secara global masih `underfit` karena masih jauh dari maksimal performance yaitu `1`"
      ]
    },
    {
      "attachments": {},
      "cell_type": "markdown",
      "metadata": {},
      "source": [
        "#### Model Gradient Boosting"
      ]
    },
    {
      "cell_type": "code",
      "execution_count": 112,
      "metadata": {},
      "outputs": [
        {
          "name": "stdout",
          "output_type": "stream",
          "text": [
            "              precision    recall  f1-score   support\n",
            "\n",
            "           0       0.86      0.96      0.91      1626\n",
            "           1       0.78      0.48      0.60       477\n",
            "\n",
            "    accuracy                           0.85      2103\n",
            "   macro avg       0.82      0.72      0.75      2103\n",
            "weighted avg       0.85      0.85      0.84      2103\n",
            "\n"
          ]
        }
      ],
      "source": [
        "print(classification_report(y_train, y_pred_train_gbc))"
      ]
    },
    {
      "cell_type": "code",
      "execution_count": 113,
      "metadata": {},
      "outputs": [
        {
          "name": "stdout",
          "output_type": "stream",
          "text": [
            "              precision    recall  f1-score   support\n",
            "\n",
            "           0       0.87      0.95      0.91       466\n",
            "           1       0.72      0.48      0.58       127\n",
            "\n",
            "    accuracy                           0.85       593\n",
            "   macro avg       0.79      0.71      0.74       593\n",
            "weighted avg       0.84      0.85      0.84       593\n",
            "\n"
          ]
        }
      ],
      "source": [
        "print(classification_report(y_test, y_pred_test_gbc))"
      ]
    },
    {
      "attachments": {},
      "cell_type": "markdown",
      "metadata": {},
      "source": [
        "Pada model gradient boosting, Nilai recall pada `data train` adalah `0.48` dan pada data test adalah `0.48`. Secara perbandingan antara data train dan data test maka model ini adalah `best-fit` karena tidak ada selisih antara data train dan data test. Namun secara global masih `under fit` karena nilai masih jauh dari best performance yaitu `1`"
      ]
    },
    {
      "attachments": {},
      "cell_type": "markdown",
      "metadata": {},
      "source": [
        "### Confusion Matrix\n",
        "#### Naive Bayes"
      ]
    },
    {
      "cell_type": "code",
      "execution_count": 114,
      "metadata": {},
      "outputs": [
        {
          "data": {
            "image/png": "[encoded data removed]",
            "text/plain": [
              "<Figure size 640x480 with 2 Axes>"
            ]
          },
          "metadata": {},
          "output_type": "display_data"
        }
      ],
      "source": [
        "# Cek confusion matrix pada data train\n",
        "cm_train_nb = confusion_matrix(y_train, y_pred_train_nb, labels=nb_model.classes_)\n",
        "cm_disp_train_nb = ConfusionMatrixDisplay(confusion_matrix=cm_train_nb, display_labels=nb_model.classes_)\n",
        "\n",
        "# plot confusion matrix\n",
        "cm_disp_train_nb.plot()\n",
        "plt.show()"
      ]
    },
    {
      "cell_type": "code",
      "execution_count": 115,
      "metadata": {},
      "outputs": [
        {
          "data": {
            "image/png": "[encoded data removed]",
            "text/plain": [
              "<Figure size 640x480 with 2 Axes>"
            ]
          },
          "metadata": {},
          "output_type": "display_data"
        }
      ],
      "source": [
        "# Cek confusion matrix pada data test\n",
        "cm_test_nb = confusion_matrix(y_test, y_pred_test_nb, labels=nb_model.classes_)\n",
        "cm_disp_test_nb = ConfusionMatrixDisplay(confusion_matrix=cm_test_nb, display_labels=nb_model.classes_)\n",
        "\n",
        "# plot confusion matrix\n",
        "cm_disp_test_nb.plot()\n",
        "plt.show()"
      ]
    },
    {
      "attachments": {},
      "cell_type": "markdown",
      "metadata": {},
      "source": [
        "Dari confusion matrix beberapa informasi yang mendukung dari classification report :\n",
        "- Pada data train terdapat 260 data yang diprediksi tidak akan default bulan depan namun sebenarnya akan default\n",
        "- Sedangkan pada data test terdapat 67 data yang salah prediksi"
      ]
    },
    {
      "attachments": {},
      "cell_type": "markdown",
      "metadata": {},
      "source": [
        "#### Gradient Boosting"
      ]
    },
    {
      "cell_type": "code",
      "execution_count": 116,
      "metadata": {},
      "outputs": [
        {
          "data": {
            "image/png": "[encoded data removed]",
            "text/plain": [
              "<Figure size 640x480 with 2 Axes>"
            ]
          },
          "metadata": {},
          "output_type": "display_data"
        }
      ],
      "source": [
        "# Cek confusion matrix pada data train\n",
        "cm_train_gbc = confusion_matrix(y_train, y_pred_train_gbc, labels=gbc_model.classes_)\n",
        "cm_disp_train_gbc = ConfusionMatrixDisplay(confusion_matrix=cm_train_gbc, display_labels=gbc_model.classes_)\n",
        "\n",
        "# plot confusion matrix\n",
        "cm_disp_train_gbc.plot()\n",
        "plt.show()"
      ]
    },
    {
      "cell_type": "code",
      "execution_count": 117,
      "metadata": {},
      "outputs": [
        {
          "data": {
            "image/png": "[encoded data removed]",
            "text/plain": [
              "<Figure size 640x480 with 2 Axes>"
            ]
          },
          "metadata": {},
          "output_type": "display_data"
        }
      ],
      "source": [
        "# Cek confusion matrix pada data train\n",
        "cm_test_gbc = confusion_matrix(y_test, y_pred_test_gbc, labels=gbc_model.classes_)\n",
        "cm_disp_test_gbc = ConfusionMatrixDisplay(confusion_matrix=cm_test_gbc, display_labels=gbc_model.classes_)\n",
        "\n",
        "# plot confusion matrix\n",
        "cm_disp_test_gbc.plot()\n",
        "plt.show()"
      ]
    },
    {
      "attachments": {},
      "cell_type": "markdown",
      "metadata": {},
      "source": [
        "Dari confusion matrix beberapa informasi yang mendukung dari classification report :\n",
        "- Pada data train terdapat 248 data yang diprediksi tidak akan default bulan depan namun sebenarnya akan default\n",
        "- Sedangkan pada data test terdapat 66 data yang salah prediksi\n",
        "\n",
        "`Secara Confusion Matrix Terdapat perbedaan 2 Prediksi yang salah antara Model Naive  Bayes dengan Gradient Boosting`\n",
        "\n",
        "Dari hasil performa model dengan parameter baseline, secara global masih `underfit`. Sehingga penulis mencoba untuk melakukan `hyperparamater tuning` dengan menggunakan metode `Grid Search` Dan `Random Search`"
      ]
    },
    {
      "attachments": {},
      "cell_type": "markdown",
      "metadata": {},
      "source": [
        "## Hyper Parameter Tuning\n",
        "### Grid Search Gaussian Naive Bayes"
      ]
    },
    {
      "cell_type": "code",
      "execution_count": 118,
      "metadata": {},
      "outputs": [],
      "source": [
        "# Make parameter for Naive Bayes\n",
        "params_NB = {'nb__var_smoothing': np.logspace(0,-9, num=10)}"
      ]
    },
    {
      "cell_type": "code",
      "execution_count": 119,
      "metadata": {},
      "outputs": [
        {
          "data": {
            "text/plain": [
              "GridSearchCV(cv=3,\n",
              "             estimator=Pipeline(steps=[('preprocessor',\n",
              "                                        ColumnTransformer(transformers=[('scale',\n",
              "                                                                         StandardScaler(),\n",
              "                                                                         Index(['pay_0', 'pay_2', 'pay_3', 'pay_4', 'pay_5', 'pay_6', 'limit_balance'], dtype='object'))])),\n",
              "                                       ('nb', GaussianNB())]),\n",
              "             n_jobs=-1,\n",
              "             param_grid={'nb__var_smoothing': array([1.e+00, 1.e-01, 1.e-02, 1.e-03, 1.e-04, 1.e-05, 1.e-06, 1.e-07,\n",
              "       1.e-08, 1.e-09])},\n",
              "             scoring='recall')"
            ]
          },
          "execution_count": 119,
          "metadata": {},
          "output_type": "execute_result"
        }
      ],
      "source": [
        "# Grid search for Naive Bayes\n",
        "NB_grid = GridSearchCV(nb_model, param_grid=params_NB,cv=3, n_jobs=-1, scoring='recall')\n",
        "NB_grid.fit(X_train, y_train)"
      ]
    },
    {
      "cell_type": "code",
      "execution_count": 120,
      "metadata": {},
      "outputs": [
        {
          "name": "stdout",
          "output_type": "stream",
          "text": [
            "Best Score Grid Search Naive Bayes : 0.454927\n",
            "Best Parameter Grid Search Naive Bayes : \n",
            "{'nb__var_smoothing': 0.01}\n"
          ]
        }
      ],
      "source": [
        "# Best score and best parameter from grid search algorithm Naive bayes\n",
        "print(f'Best Score Grid Search Naive Bayes : {NB_grid.best_score_:.6f}')\n",
        "print(f'Best Parameter Grid Search Naive Bayes : \\n{NB_grid.best_params_}')"
      ]
    },
    {
      "attachments": {},
      "cell_type": "markdown",
      "metadata": {},
      "source": [
        "Hasil dari grid search pada GaussianNB adalah nilai `recall` paling tinggi adalah `0.454927` dengan best parameter `'var_smoothing': 0.01`"
      ]
    },
    {
      "attachments": {},
      "cell_type": "markdown",
      "metadata": {},
      "source": [
        "### Random Search Gradient Boosting "
      ]
    },
    {
      "cell_type": "code",
      "execution_count": 121,
      "metadata": {},
      "outputs": [],
      "source": [
        "# Make parameter for gradient boosting\n",
        "param_gbc = {'gbc__learning_rate': [0.001, 0.01, 0.1, 1],\n",
        "              'gbc__n_estimators': [int(x) for x in np.linspace(start=200, stop=2000, num = 10)],\n",
        "              'gbc__criterion' : ['friedman_mse', 'squared_error'],\n",
        "              'gbc__min_samples_split' : [int(x) for x in np.linspace(2,20,10)],\n",
        "              'gbc__min_samples_leaf': [int(x) for x in np.linspace(start=2, stop=20, num = 10)],\n",
        "              'gbc__max_depth': [1,2,3],\n",
        "              'gbc__max_features' : ['auto', 'sqrt', 'log2']}\n"
      ]
    },
    {
      "cell_type": "code",
      "execution_count": 122,
      "metadata": {},
      "outputs": [
        {
          "data": {
            "text/plain": [
              "RandomizedSearchCV(cv=3,\n",
              "                   estimator=Pipeline(steps=[('preprocessor',\n",
              "                                              ColumnTransformer(transformers=[('scale',\n",
              "                                                                               StandardScaler(),\n",
              "                                                                               Index(['pay_0', 'pay_2', 'pay_3', 'pay_4', 'pay_5', 'pay_6', 'limit_balance'], dtype='object'))])),\n",
              "                                             ('gbc',\n",
              "                                              GradientBoostingClassifier())]),\n",
              "                   n_iter=50, n_jobs=-1,\n",
              "                   param_distributions={'gbc__criterion': ['friedman_mse',\n",
              "                                                           'squared_error'],\n",
              "                                        'gbc__learning_rate': [0.001, 0.01, 0.1,\n",
              "                                                               1],\n",
              "                                        'gbc__max_depth': [1, 2, 3],\n",
              "                                        'gbc__max_features': ['auto', 'sqrt',\n",
              "                                                              'log2'],\n",
              "                                        'gbc__min_samples_leaf': [2, 4, 6, 8,\n",
              "                                                                  10, 12, 14,\n",
              "                                                                  16, 18, 20],\n",
              "                                        'gbc__min_samples_split': [2, 4, 6, 8,\n",
              "                                                                   10, 12, 14,\n",
              "                                                                   16, 18, 20],\n",
              "                                        'gbc__n_estimators': [200, 400, 600,\n",
              "                                                              800, 1000, 1200,\n",
              "                                                              1400, 1600, 1800,\n",
              "                                                              2000]},\n",
              "                   random_state=2023, scoring='recall')"
            ]
          },
          "execution_count": 122,
          "metadata": {},
          "output_type": "execute_result"
        }
      ],
      "source": [
        "# Random search for Gradien Boosting\n",
        "gbc_random = RandomizedSearchCV(gbc_model, param_distributions=param_gbc, n_iter=50, random_state=2023 ,cv=3, n_jobs=-1, scoring='recall')\n",
        "gbc_random.fit(X_train_final, y_train)"
      ]
    },
    {
      "cell_type": "code",
      "execution_count": 123,
      "metadata": {},
      "outputs": [
        {
          "name": "stdout",
          "output_type": "stream",
          "text": [
            "Best Score Random Search Gradien Boosting : 0.452830\n",
            "Best Parameter Random Search Gradien Boosting : \n",
            "{'gbc__n_estimators': 200, 'gbc__min_samples_split': 14, 'gbc__min_samples_leaf': 12, 'gbc__max_features': 'auto', 'gbc__max_depth': 2, 'gbc__learning_rate': 0.1, 'gbc__criterion': 'squared_error'}\n"
          ]
        }
      ],
      "source": [
        "# Best score dan parameter gradient boosting with Random Search\n",
        "print(f'Best Score Random Search Gradien Boosting : {gbc_random.best_score_:.6f}')\n",
        "print(f'Best Parameter Random Search Gradien Boosting : \\n{gbc_random.best_params_}')"
      ]
    },
    {
      "attachments": {},
      "cell_type": "markdown",
      "metadata": {},
      "source": [
        "Hasil dari Random search pada GradientBoostingClassifier adalah nilai `recall` paling tinggi adalah `0.452830` dengan best parameter :\n",
        "- 'n_estimators': 200, \n",
        "- 'min_samples_split': 14, \n",
        "- 'min_samples_leaf': 12, \n",
        "- 'max_features': 'auto', \n",
        "- 'max_depth': 2, \n",
        "- 'learning_rate': 0.1, \n",
        "- 'criterion': 'squared_error'"
      ]
    },
    {
      "attachments": {},
      "cell_type": "markdown",
      "metadata": {},
      "source": [
        "### Model Definition With Best Parameter"
      ]
    },
    {
      "cell_type": "code",
      "execution_count": 124,
      "metadata": {},
      "outputs": [],
      "source": [
        "# Make a model with pipeline for Tuning model\n",
        "nb_model_tuning = Pipeline(steps=[('preprocessor', preprocessor), ('nb', GaussianNB(var_smoothing = 0.01))])\n",
        "gbc_model_tuning = Pipeline(steps=[('preprocessor', preprocessor), ('gbc', GradientBoostingClassifier(n_estimators = 200, min_samples_split = 14,\n",
        "                                     min_samples_leaf = 12, max_features= 'auto', max_depth= 2, learning_rate= 0.1,\n",
        "                                      criterion= 'squared_error'))])\n"
      ]
    },
    {
      "attachments": {},
      "cell_type": "markdown",
      "metadata": {},
      "source": [
        "### Model Training And Evaluation With Best Params"
      ]
    },
    {
      "cell_type": "code",
      "execution_count": 125,
      "metadata": {},
      "outputs": [
        {
          "data": {
            "text/plain": [
              "Pipeline(steps=[('preprocessor',\n",
              "                 ColumnTransformer(transformers=[('scale', StandardScaler(),\n",
              "                                                  Index(['pay_0', 'pay_2', 'pay_3', 'pay_4', 'pay_5', 'pay_6', 'limit_balance'], dtype='object'))])),\n",
              "                ('gbc',\n",
              "                 GradientBoostingClassifier(criterion='squared_error',\n",
              "                                            max_depth=2, max_features='auto',\n",
              "                                            min_samples_leaf=12,\n",
              "                                            min_samples_split=14,\n",
              "                                            n_estimators=200))])"
            ]
          },
          "execution_count": 125,
          "metadata": {},
          "output_type": "execute_result"
        }
      ],
      "source": [
        "# Model training with best parameters\n",
        "nb_model_tuning.fit(X_train,y_train)\n",
        "gbc_model_tuning.fit(X_train,y_train)"
      ]
    },
    {
      "cell_type": "code",
      "execution_count": 126,
      "metadata": {},
      "outputs": [],
      "source": [
        "# Predict Data Train and Data Test with Naive Bayes\n",
        "y_pred_train_nb_tuning = nb_model_tuning.predict(X_train)\n",
        "y_pred_test_nb_tuning = nb_model_tuning.predict(X_test)\n",
        "\n",
        "# Predict Data Train and Data Test with Naive Bayes\n",
        "y_pred_train_gbc_tuning = gbc_model_tuning.predict(X_train)\n",
        "y_pred_test_gbc_tuning = gbc_model_tuning.predict(X_test)"
      ]
    },
    {
      "attachments": {},
      "cell_type": "markdown",
      "metadata": {},
      "source": [
        "### Classification Report\n",
        "#### Naive Bayes"
      ]
    },
    {
      "cell_type": "code",
      "execution_count": 127,
      "metadata": {},
      "outputs": [
        {
          "name": "stdout",
          "output_type": "stream",
          "text": [
            "              precision    recall  f1-score   support\n",
            "\n",
            "           0       0.85      0.91      0.88      1626\n",
            "           1       0.61      0.45      0.52       477\n",
            "\n",
            "    accuracy                           0.81      2103\n",
            "   macro avg       0.73      0.68      0.70      2103\n",
            "weighted avg       0.80      0.81      0.80      2103\n",
            "\n"
          ]
        }
      ],
      "source": [
        "print(classification_report(y_train,y_pred_train_nb_tuning))"
      ]
    },
    {
      "cell_type": "code",
      "execution_count": 128,
      "metadata": {},
      "outputs": [
        {
          "name": "stdout",
          "output_type": "stream",
          "text": [
            "              precision    recall  f1-score   support\n",
            "\n",
            "           0       0.86      0.91      0.88       466\n",
            "           1       0.58      0.47      0.52       127\n",
            "\n",
            "    accuracy                           0.81       593\n",
            "   macro avg       0.72      0.69      0.70       593\n",
            "weighted avg       0.80      0.81      0.81       593\n",
            "\n"
          ]
        }
      ],
      "source": [
        "print(classification_report(y_test,y_pred_test_nb_tuning))"
      ]
    },
    {
      "attachments": {},
      "cell_type": "markdown",
      "metadata": {},
      "source": [
        "#### Gradient Boosting"
      ]
    },
    {
      "cell_type": "code",
      "execution_count": 129,
      "metadata": {},
      "outputs": [
        {
          "name": "stdout",
          "output_type": "stream",
          "text": [
            "              precision    recall  f1-score   support\n",
            "\n",
            "           0       0.86      0.96      0.91      1626\n",
            "           1       0.76      0.46      0.58       477\n",
            "\n",
            "    accuracy                           0.84      2103\n",
            "   macro avg       0.81      0.71      0.74      2103\n",
            "weighted avg       0.84      0.84      0.83      2103\n",
            "\n"
          ]
        }
      ],
      "source": [
        "print(classification_report(y_train,y_pred_train_gbc_tuning))"
      ]
    },
    {
      "cell_type": "code",
      "execution_count": 130,
      "metadata": {},
      "outputs": [
        {
          "name": "stdout",
          "output_type": "stream",
          "text": [
            "              precision    recall  f1-score   support\n",
            "\n",
            "           0       0.86      0.95      0.90       466\n",
            "           1       0.69      0.44      0.54       127\n",
            "\n",
            "    accuracy                           0.84       593\n",
            "   macro avg       0.78      0.69      0.72       593\n",
            "weighted avg       0.82      0.84      0.82       593\n",
            "\n"
          ]
        }
      ],
      "source": [
        "print(classification_report(y_test,y_pred_test_gbc_tuning))"
      ]
    },
    {
      "attachments": {},
      "cell_type": "markdown",
      "metadata": {},
      "source": [
        "### Comparison Between Before and After Tuning\n",
        "\n",
        "Recap nilai recall pada data target dengan value `1` sebagai berikut :\n",
        "\n",
        "Model Naive Bayes\n",
        "- Data train :\n",
        "    - Before tuning : 0.45\n",
        "    - After tuning : 0.45\n",
        "- Data test :\n",
        "    - Before tuning : 0.47\n",
        "    - After tunig : 0.47\n",
        "\n",
        "Model Gradient Boosting\n",
        "- Data train :\n",
        "    - Before tuning : 0.48\n",
        "    - After tuning : 0.46\n",
        "- Data test :\n",
        "    - Before tuning : 0.48\n",
        "    - After tunig : 0.44"
      ]
    },
    {
      "attachments": {},
      "cell_type": "markdown",
      "metadata": {},
      "source": [
        "Kesimpulan :\n",
        "- Pada model `naive bayes` tidak terdapat perbedaan antara model baseline dengan model yang sudah di tuning. \n",
        "- Sedangkan pada model `gradient boosting` terjadi `penurunan` nilai recall. Hal ini dapat terjadi karena model gradient boosting memiliki banyak hyper parameter sedangkan hyperparameter yang di tuning hanya beberapa dengan kombinasi yang tidak kompleks dikarenakan `keterbatasan device` dalam melakukan tuning ( Search )\n",
        "- Sehingga model yang dipilh adalah Naive Bayes dengan Tuning dan Gradien Boosting tanpa Tuning"
      ]
    },
    {
      "attachments": {},
      "cell_type": "markdown",
      "metadata": {},
      "source": [
        "### Data Test with Model Prediction"
      ]
    },
    {
      "cell_type": "code",
      "execution_count": 131,
      "metadata": {},
      "outputs": [],
      "source": [
        "# Make dataframe from model prediction\n",
        "y_pred_test_nb_tuning_df = pd.DataFrame(y_pred_test_nb_tuning, columns=['Prediction NB'])\n",
        "y_pred_test_gbc_tuning_df = pd.DataFrame(y_pred_test_gbc, columns=['Prediction GBC'])"
      ]
    },
    {
      "cell_type": "code",
      "execution_count": 132,
      "metadata": {},
      "outputs": [
        {
          "data": {
            "text/html": [
              "<div>\n",
              "<style scoped>\n",
              "    .dataframe tbody tr th:only-of-type {\n",
              "        vertical-align: middle;\n",
              "    }\n",
              "\n",
              "    .dataframe tbody tr th {\n",
              "        vertical-align: top;\n",
              "    }\n",
              "\n",
              "    .dataframe thead th {\n",
              "        text-align: right;\n",
              "    }\n",
              "</style>\n",
              "<table border=\"1\" class=\"dataframe\">\n",
              "  <thead>\n",
              "    <tr style=\"text-align: right;\">\n",
              "      <th></th>\n",
              "      <th>pay_0</th>\n",
              "      <th>pay_2</th>\n",
              "      <th>pay_3</th>\n",
              "      <th>pay_4</th>\n",
              "      <th>pay_5</th>\n",
              "      <th>pay_6</th>\n",
              "      <th>limit_balance</th>\n",
              "      <th>default_payment_next_month</th>\n",
              "      <th>Prediction NB</th>\n",
              "      <th>Prediction GBC</th>\n",
              "    </tr>\n",
              "  </thead>\n",
              "  <tbody>\n",
              "    <tr>\n",
              "      <th>525</th>\n",
              "      <td>-1</td>\n",
              "      <td>-1</td>\n",
              "      <td>2</td>\n",
              "      <td>-1</td>\n",
              "      <td>0</td>\n",
              "      <td>-1</td>\n",
              "      <td>100000</td>\n",
              "      <td>0</td>\n",
              "      <td>0</td>\n",
              "      <td>0</td>\n",
              "    </tr>\n",
              "    <tr>\n",
              "      <th>544</th>\n",
              "      <td>0</td>\n",
              "      <td>0</td>\n",
              "      <td>0</td>\n",
              "      <td>0</td>\n",
              "      <td>0</td>\n",
              "      <td>2</td>\n",
              "      <td>150000</td>\n",
              "      <td>1</td>\n",
              "      <td>0</td>\n",
              "      <td>0</td>\n",
              "    </tr>\n",
              "    <tr>\n",
              "      <th>67</th>\n",
              "      <td>0</td>\n",
              "      <td>0</td>\n",
              "      <td>0</td>\n",
              "      <td>-1</td>\n",
              "      <td>0</td>\n",
              "      <td>0</td>\n",
              "      <td>360000</td>\n",
              "      <td>0</td>\n",
              "      <td>0</td>\n",
              "      <td>0</td>\n",
              "    </tr>\n",
              "    <tr>\n",
              "      <th>443</th>\n",
              "      <td>1</td>\n",
              "      <td>-2</td>\n",
              "      <td>-2</td>\n",
              "      <td>-2</td>\n",
              "      <td>-2</td>\n",
              "      <td>-2</td>\n",
              "      <td>370000</td>\n",
              "      <td>0</td>\n",
              "      <td>0</td>\n",
              "      <td>0</td>\n",
              "    </tr>\n",
              "    <tr>\n",
              "      <th>471</th>\n",
              "      <td>0</td>\n",
              "      <td>0</td>\n",
              "      <td>0</td>\n",
              "      <td>0</td>\n",
              "      <td>0</td>\n",
              "      <td>0</td>\n",
              "      <td>240000</td>\n",
              "      <td>0</td>\n",
              "      <td>0</td>\n",
              "      <td>0</td>\n",
              "    </tr>\n",
              "    <tr>\n",
              "      <th>73</th>\n",
              "      <td>-1</td>\n",
              "      <td>-1</td>\n",
              "      <td>-1</td>\n",
              "      <td>2</td>\n",
              "      <td>2</td>\n",
              "      <td>3</td>\n",
              "      <td>80000</td>\n",
              "      <td>0</td>\n",
              "      <td>1</td>\n",
              "      <td>0</td>\n",
              "    </tr>\n",
              "    <tr>\n",
              "      <th>227</th>\n",
              "      <td>-1</td>\n",
              "      <td>0</td>\n",
              "      <td>0</td>\n",
              "      <td>0</td>\n",
              "      <td>0</td>\n",
              "      <td>-1</td>\n",
              "      <td>30000</td>\n",
              "      <td>1</td>\n",
              "      <td>0</td>\n",
              "      <td>0</td>\n",
              "    </tr>\n",
              "    <tr>\n",
              "      <th>148</th>\n",
              "      <td>-1</td>\n",
              "      <td>0</td>\n",
              "      <td>0</td>\n",
              "      <td>0</td>\n",
              "      <td>2</td>\n",
              "      <td>-1</td>\n",
              "      <td>210000</td>\n",
              "      <td>0</td>\n",
              "      <td>0</td>\n",
              "      <td>0</td>\n",
              "    </tr>\n",
              "    <tr>\n",
              "      <th>125</th>\n",
              "      <td>0</td>\n",
              "      <td>0</td>\n",
              "      <td>2</td>\n",
              "      <td>2</td>\n",
              "      <td>2</td>\n",
              "      <td>2</td>\n",
              "      <td>90000</td>\n",
              "      <td>1</td>\n",
              "      <td>1</td>\n",
              "      <td>1</td>\n",
              "    </tr>\n",
              "    <tr>\n",
              "      <th>452</th>\n",
              "      <td>0</td>\n",
              "      <td>0</td>\n",
              "      <td>0</td>\n",
              "      <td>0</td>\n",
              "      <td>-2</td>\n",
              "      <td>-1</td>\n",
              "      <td>180000</td>\n",
              "      <td>0</td>\n",
              "      <td>0</td>\n",
              "      <td>0</td>\n",
              "    </tr>\n",
              "  </tbody>\n",
              "</table>\n",
              "</div>"
            ],
            "text/plain": [
              "     pay_0  pay_2  pay_3  pay_4  pay_5  pay_6  limit_balance  \\\n",
              "525     -1     -1      2     -1      0     -1         100000   \n",
              "544      0      0      0      0      0      2         150000   \n",
              "67       0      0      0     -1      0      0         360000   \n",
              "443      1     -2     -2     -2     -2     -2         370000   \n",
              "471      0      0      0      0      0      0         240000   \n",
              "73      -1     -1     -1      2      2      3          80000   \n",
              "227     -1      0      0      0      0     -1          30000   \n",
              "148     -1      0      0      0      2     -1         210000   \n",
              "125      0      0      2      2      2      2          90000   \n",
              "452      0      0      0      0     -2     -1         180000   \n",
              "\n",
              "     default_payment_next_month  Prediction NB  Prediction GBC  \n",
              "525                           0              0               0  \n",
              "544                           1              0               0  \n",
              "67                            0              0               0  \n",
              "443                           0              0               0  \n",
              "471                           0              0               0  \n",
              "73                            0              1               0  \n",
              "227                           1              0               0  \n",
              "148                           0              0               0  \n",
              "125                           1              1               1  \n",
              "452                           0              0               0  "
            ]
          },
          "execution_count": 132,
          "metadata": {},
          "output_type": "execute_result"
        }
      ],
      "source": [
        "# Concate data test with model prediction\n",
        "data_inf_pred = pd.concat([data_test, y_pred_test_nb_tuning_df, y_pred_test_gbc_tuning_df],axis=1)\n",
        "data_inf_pred.sample(10)"
      ]
    },
    {
      "attachments": {},
      "cell_type": "markdown",
      "metadata": {
        "id": "d3YszCCaDr2Z"
      },
      "source": [
        "# 9 - Model Saving"
      ]
    },
    {
      "attachments": {},
      "cell_type": "markdown",
      "metadata": {},
      "source": [
        "Setelah model penulis anggap maksimal maka selanjutnya adalah proses penyimpanan model sehingga dapat di gunakan tanpa harus di lakukan train kembali\n",
        "\n",
        "Model yang dipilih adalah model yang memiliki nilai recall score paling bagus"
      ]
    },
    {
      "cell_type": "code",
      "execution_count": 133,
      "metadata": {
        "id": "VMnUJHTEE8vX"
      },
      "outputs": [],
      "source": [
        "# Model Saving\n",
        "\n",
        "with open('nb_model.pkl', 'wb') as file_1:\n",
        "  pickle.dump(nb_model_tuning, file_1)\n",
        "\n",
        "with open('gbc_model.pkl', 'wb') as file_2:\n",
        "  pickle.dump(gbc_model, file_2)"
      ]
    },
    {
      "attachments": {},
      "cell_type": "markdown",
      "metadata": {},
      "source": [
        "# 10 - Conceptual Thinking\n",
        "### Pengertian Criterion :\n",
        "- `Criterion` adalah metode yang digunakan dalam pengambilan keputusan pada node. Criterion terdiri dari 2 :\n",
        "    - Gini \n",
        "        - Metode pengambilan keputusan yang berdasarkan tingkat kemurnian dari suatu node. Semakin kecil nilai gini maka semakin homogen sampel pada node tersebut. Cendrung lebih baik digunakan pada dataset yang memiliki jumlah besar.\n",
        "    - Entropy\n",
        "        - Metode pengambilan keputusan yang berdasarkan tingkat keseimbangan pada suatu node. Semakin kecil nilai entropy maka semakin homogen sampel pada node tersebut. Digunakan pada dataset yang cenderung kecil"
      ]
    },
    {
      "attachments": {},
      "cell_type": "markdown",
      "metadata": {},
      "source": [
        "### Pengertian Pruning\n",
        "- Pruning adalah teknik untuk mengurangi kompleksitas dari model dengan memberikan batasan batasan pada pengambilan keputusan yang berdampak pada performance model. Tujuan dari pruning adalah untuk mengantisipasi `overfitting` pada model karena kecendrungan dari tree based model adalah overfitting. Beberapa jenis pruning adalah :\n",
        "    - Pre Pruning :\n",
        "        - Membatasi kompleksitas dari model dengan cara memberikan batasan - batasan pada model sebelum model di bentuk.\n",
        "        - Metode : Hyper parameter setting sebelum model di training.\n",
        "    - Post Tuning :\n",
        "        - Melakukan perampingan pada model yang telah selesai dibangun. Biasa dilakukan jika model mengalami overfitting\n",
        "        - Metode :\n",
        "            - Cost complexity pruning (CCP) : Melihat pengaruh setiap node berdasarkan cost complexity yang dimilikinya\n",
        "            - Reduced Error Pruning : Melihat performance model setelah dilakukan penghapusan node"
      ]
    },
    {
      "attachments": {},
      "cell_type": "markdown",
      "metadata": {},
      "source": [
        "### Cara Memilih Nilai K pada KNN\n",
        "\n",
        "- Cara memilih nilai K paling optimal adalah dengan metode elbow. \n",
        "    - Melakukan beberapa kali pengujian dengan nilai K yang berbeda\n",
        "    - Hitung nilai eror setiap nilai K dan buat kedalam visaulisasi\n",
        "    - Cari nilai k dengan nilai error yang membentuk siku ( elbow ) pada visualisasi"
      ]
    },
    {
      "attachments": {},
      "cell_type": "markdown",
      "metadata": {},
      "source": [
        "### Pengertian Cross Validation\n",
        "- Cross validation adalah teknik untuk mengevaluasi suatu model dengan data yang belum digunakan (data train). Konsepnya adalah membagi data train menjadi beberapa bagian `(fold)`, kemudian melatih model dengan seluruh bagian data kecuali satu bagian (fold) yang akan digunkana sebagai evaluasi. Proses ini diulang sebanyak jumlah bagian data dengan data evaluasi yang selalu berubah setiap pengulangan. Jadi masing masing fold akan digunakan sebagai validasi data sebanyak 1 kali. Rata-rata nilai performance dari setiap fold digunakan sebagai penilaian kinerja model."
      ]
    },
    {
      "attachments": {},
      "cell_type": "markdown",
      "metadata": {},
      "source": [
        "### Pengertian Metric Accuracy, Precision, Recall, F1 Score, dan Wawktu Penggunaanya\n",
        "- Semua metric di atas adalah metrics yang digunakan untuk mengevaluasi performance model klasifikasi. Perbedaan masing - masing metriks adalah :\n",
        "    - `Accuracy`\n",
        "        - Metric yang digunakan untuk mengukur performance model dengan membagi hasil penjumlahan total prediksi model yang benar terhadap keseluruhan data. Metrics ini digunakan apabila distribusi data pada target prediksi seimbang `(balance)`\n",
        "    - `Precision`\n",
        "        - Metric yang digunakan apabila distribusi data pada target yang `imbalance`. Lebih spesifik, precission adalah nilai performance model memprediksi secara benar terhadap jumlah data prediksi yang benar ditambah dengan kesalahan prediksi yang positif (False Positiv)\n",
        "    - `Recall`\n",
        "        - Tidak berbeda jauh dengan precision, Recall juga digunakan pada data yang memiliki distribusi data tatrget `imbalance`. Perbedaanya adalah pada proses pembagian jumlah prediksi yang benar terhadap jumlah prediksi yang benar setelah di tambah kesalaha  prediksi yang nrgatif (False Negatif)\n",
        "    - `F1-Score`\n",
        "        - Masih pada data `imbalance` namun semua kelas pada data target sama pentingnya. Sehingga nilai f1 adalah rata rata harmonisa dari Precision dan Recall"
      ]
    },
    {
      "attachments": {},
      "cell_type": "markdown",
      "metadata": {
        "id": "mnYgSVRBMzbT"
      },
      "source": [
        "# 11 - Pengambilan Kesimpulan\n",
        "## Model Analysis\n",
        "### Naive Bayes\n",
        "\n",
        "Beberapa analisa dari model logistik regresi:\n",
        "- Performa model pada` data train` dan `data test` tidak berbeda jauh sehingga dapat dikatakan bahwa model ini memiliki predikat `good fit`\n",
        "- Bila tidak berfokus pada salah satu kondisi dari prediksi ( contoh prediksi customer akan default atau bernilai 1 ) dan mempertimbankan persentase distibusi data target, Secara spesifik dengan menggunakan metric classification report, performa model dapat dilihat dengan menggunakan f1-score weighted yaitu `0.80`.\n",
        "- Namun apabila berfokus pada salah satu kondisi prediksi maka performa model adalah :\n",
        "    - Prediksi `0` memiliki nilai `0.88`\n",
        "    - Prediksi `1` memiliki nilai `0.52`\n",
        "- Terdapat perbedaan yang cukup signifikan pada performa apabila mempertimbangkan kepentingan kelas target. Hal ini disebabkan karena adanya `imbalance` data pada kelas target dengan persentase `77% :23%` pada kelas `0 : 1`\n",
        "- Tidak ada perbedaan performa pada model dengan `baselin` dengan model yang telah di tuning dengan `Grid Search` \n",
        "\n",
        "Kelebihan dan Kelamahan Model Logistik Regresi berikut adalah:\n",
        "- Kelebihan :\n",
        "    - Secara global model cukup baik memprediksi\n",
        "    - Model memiliki performa yang sama antara data train dan data test\n",
        "- Kelemahan : \n",
        "    -  Underfit pada prediksi apabila berfokus pada salah satu kondisi prediksi\n",
        "\n",
        "\n",
        "### Gradient Boosting Classifier\n",
        "- Tidak berbeda jauh dengan model Naive Bayes, model SVC juga memiliki performa yang baik secara global namun kurang baik apabila mempertimbangkan tingkat kepentingan kelas target.\n",
        "- Namun terdapat perbedaan `0.2` pada performance data test dan dan data train setelah model di tuning, Sedangkan pada model baseline tidak terdapat perbedaan\n",
        "\n",
        "- Kelebihan dan kekurangan model juga relative sama. \n",
        "\n",
        "\n",
        "### Further Improvement\n",
        "Untuk imporvement selanjutnya dari model ini adalah sbb :\n",
        "- Handling data imbalance agar model bisa lebih maksimal dalam proses training\n",
        "- Melakukan hyper parameter tuning yang dengan kombinasi hyper parameter yang lebih beragam agar mendapatkan model dengan performa lebih baik\n"
      ]
    },
    {
      "attachments": {},
      "cell_type": "markdown",
      "metadata": {},
      "source": [
        "## Overall Analysis\n",
        "Secara keseluruhan proses yang dilakukan pada project ini adalah:\n",
        "- Import semua library yang di butuhkan\n",
        "- Load dataset dan eksplorasi basic info dari data\n",
        "- Exploarsi Data Analytics untuk menemukan insight. Pada tahapan ini juga mencari informasi menarik atau insight bussiness maupun informasi yang dapat digukanan untuk pemilihan fitur\n",
        "- Feature selection dengan menggunakan phi correlation yang selanjutnya diperkuat dengan plot hubungan antara fitur dengan target\n",
        "- Data preprocessing dimana pada tahap ini melakukan beberapa hal seperti :\n",
        "    - Data cleaning dari missing value dan outlier, \n",
        "    - Feature engineering:\n",
        "        - Scaling untuk fitur numerik dan kategorik karena tipe data kategorik sudah berbentuk numerikal\n",
        "    - Split data set menjadi data train dan data test\n",
        "- Menentukan model yang akan di pakai berdasarkan nilai rata rata dari hasil cross validation\n",
        "- Training Model yang memiliki nilai rata rata cross validation paling tinggi dengan baseline parameter\n",
        "- Evaluasi model dengan menggunakan metrik evaluasi recall. \n",
        "- Tuning hyper parameter model dengan Grid Search dan Random Search\n",
        "- Evaluasi model yang telah di tuning\n",
        "- Bandingkan performa model sebelum dan setelah di tuning.\n",
        "- Pilih model dengan performance paling baik\n",
        "- Saving model\n",
        "\n",
        "Analysis selanjutnya adalah dari sisi hyper parameter tuning\n",
        "- Pada model Naive Bayes hyper paramater terbaik adalah `var_smoothing': 0.01`\n",
        "- Best Parameter Random Search Gradien Boosting : \n",
        "    - {'gbc__n_estimators': 200, 'gbc__min_samples_split': 14, 'gbc__min_samples_leaf': 12, 'gbc__max_features': 'auto', 'gbc__max_depth': 2, 'gbc__learning_rate': 0.1, 'gbc__criterion': 'squared_error'}\n",
        "- Perlu dilakukan tuning hyperparameter lebih beragam agar memperoleh model yang performa lebih baik\n",
        "- Langkah - langkah hyper parameter tuning dengan gridsearch dan random search :\n",
        "    - Memisahkan kategori fitur berdasarkan jenisnya\n",
        "    - Membuat list tiap hyperparameter yang akan di tuning\n",
        "    - Melakukan fitting model dengan data train\n",
        "    - Melakukan predict dengan masing masing hyperparameter sesuai list yang telah dibuat.\n",
        "    - Mengambil hyperparameter yang memiliki score paling tinggi\n",
        "\n",
        " \n",
        "Beberapa informasi yang dapat diperoleh dari proses EDA adalah :\n",
        "\n",
        "- Tidak ada hubungan jenjang pendidikan dengan limit balance yang diberikan. Terbukti limit balance `graduate school` lebih tinggi dari `university` \n",
        "- Terdapat `8.8% pria` yang bulan depan akan `default` dan `12.6% wanita`. Sisanya sebanyak` 48.2% wanita` dan `30.4% pria` tidak mengalami default\n",
        "- Umur tidak mempengaruhi limit balance kartu kredit customer\n",
        "- Rata - rata usia customer yang sudah menikah mendekati 40 tahun sedangkan usia customer single sekitar 30 tahun.\n",
        "- Berdasarkan jenjang pendidikan, terdapat perbedaan yang signifikan pada customer yang akan mengalami default bulan depan. Jenjang pendidikan `university` merupakan mayoritas yang akan mengalami default sebanyak `53.9%`disusul oleh `graduate school` dengan `23.9%` dan `high school` dengan `17.8%`\n",
        "- Sedangkan berdasarkan status pernikahan tidak terpaut jauh yakni `51.5%` dengan status `single` sisanya adalah customer yang sudah menikah. Sehingga penulis dapat mengasumsikan bahwa status pernikahan tidak mempengaruhi default.\n",
        "- Begitupun dari sisi gender. `Wanita` yang akan default sebanyak `58,7%` sisanya adalah `pria` sebanyak `41.3%`.\n",
        "- Yang menarik adalah mayoritas customer yang akan default memiliki limit balance `under 50K`. Sedangkan pada limit `'50k - 100K', '100K - 200K', '200k - 400K'` relatif sama pada range `19% - 22%` dan customer dengan limit `lebih dari 400K` hanya `1.4%`"
      ]
    }
  ],
  "metadata": {
    "colab": {
      "provenance": [],
      "toc_visible": true
    },
    "kernelspec": {
      "display_name": "dls",
      "language": "python",
      "name": "python3"
    },
    "language_info": {
      "codemirror_mode": {
        "name": "ipython",
        "version": 3
      },
      "file_extension": ".py",
      "mimetype": "text/x-python",
      "name": "python",
      "nbconvert_exporter": "python",
      "pygments_lexer": "ipython3",
      "version": "3.9.0"
    },
    "vscode": {
      "interpreter": {
        "hash": "56992eb2436ef9cfa08aa0533dd49b7cf0202c4b96ac77e637696ddb36071f79"
      }
    }
  },
  "nbformat": 4,
  "nbformat_minor": 0
}
